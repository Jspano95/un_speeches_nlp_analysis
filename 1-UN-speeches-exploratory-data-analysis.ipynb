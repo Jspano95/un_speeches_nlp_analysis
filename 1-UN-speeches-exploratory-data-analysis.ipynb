{
 "cells": [
  {
   "cell_type": "code",
   "execution_count": 38,
   "id": "db6d79b4",
   "metadata": {},
   "outputs": [],
   "source": [
    "import pandas as pd \n",
    "import numpy as np \n",
    "import seaborn as sns\n",
    "import matplotlib.pyplot as plt"
   ]
  },
  {
   "cell_type": "code",
   "execution_count": null,
   "id": "234e52bb",
   "metadata": {},
   "outputs": [],
   "source": [
    "# in subsequent iterations\n",
    "df = pd.read_pickle('df_un_general_debates.pkl')"
   ]
  },
  {
   "cell_type": "code",
   "execution_count": 40,
   "id": "549efefb",
   "metadata": {},
   "outputs": [],
   "source": [
    "# df.to_pickle('df_un_general_debates.pkl')"
   ]
  },
  {
   "cell_type": "code",
   "execution_count": null,
   "id": "aeaed947",
   "metadata": {},
   "outputs": [],
   "source": []
  },
  {
   "cell_type": "code",
   "execution_count": 3,
   "id": "c955235e",
   "metadata": {},
   "outputs": [],
   "source": [
    "# read csv\n",
    "df = pd.read_csv(\"un-general-debates-blueprint.csv\")"
   ]
  },
  {
   "cell_type": "code",
   "execution_count": 11,
   "id": "2d3d91fc",
   "metadata": {},
   "outputs": [
    {
     "name": "stdout",
     "output_type": "stream",
     "text": [
      "<class 'pandas.core.frame.DataFrame'>\n",
      "RangeIndex: 7507 entries, 0 to 7506\n",
      "Data columns (total 7 columns):\n",
      " #   Column        Non-Null Count  Dtype \n",
      "---  ------        --------------  ----- \n",
      " 0   session       7507 non-null   int64 \n",
      " 1   year          7507 non-null   int64 \n",
      " 2   country       7507 non-null   object\n",
      " 3   country_name  7507 non-null   object\n",
      " 4   speaker       7480 non-null   object\n",
      " 5   position      4502 non-null   object\n",
      " 6   text          7507 non-null   object\n",
      "dtypes: int64(2), object(5)\n",
      "memory usage: 410.7+ KB\n"
     ]
    }
   ],
   "source": [
    "df.info()"
   ]
  },
  {
   "cell_type": "markdown",
   "id": "1b04a650",
   "metadata": {},
   "source": [
    "## Double check variable \"position\" \n",
    "* AKA let's inspect these non-NaN values\n",
    "\n",
    "* There are also a handful of NaN for the variable \"speaker\" "
   ]
  },
  {
   "cell_type": "code",
   "execution_count": 10,
   "id": "4529c92d",
   "metadata": {},
   "outputs": [
    {
     "data": {
      "text/html": [
       "<div>\n",
       "<style scoped>\n",
       "    .dataframe tbody tr th:only-of-type {\n",
       "        vertical-align: middle;\n",
       "    }\n",
       "\n",
       "    .dataframe tbody tr th {\n",
       "        vertical-align: top;\n",
       "    }\n",
       "\n",
       "    .dataframe thead th {\n",
       "        text-align: right;\n",
       "    }\n",
       "</style>\n",
       "<table border=\"1\" class=\"dataframe\">\n",
       "  <thead>\n",
       "    <tr style=\"text-align: right;\">\n",
       "      <th></th>\n",
       "      <th>session</th>\n",
       "      <th>year</th>\n",
       "      <th>country</th>\n",
       "      <th>country_name</th>\n",
       "      <th>speaker</th>\n",
       "      <th>position</th>\n",
       "      <th>text</th>\n",
       "    </tr>\n",
       "  </thead>\n",
       "  <tbody>\n",
       "    <tr>\n",
       "      <th>9</th>\n",
       "      <td>25</td>\n",
       "      <td>1970</td>\n",
       "      <td>CMR</td>\n",
       "      <td>Cameroon</td>\n",
       "      <td>Mr. AHIDJO</td>\n",
       "      <td>President</td>\n",
       "      <td>: A year ago I came here as the Acting Preside...</td>\n",
       "    </tr>\n",
       "    <tr>\n",
       "      <th>14</th>\n",
       "      <td>25</td>\n",
       "      <td>1970</td>\n",
       "      <td>DOM</td>\n",
       "      <td>Dominican Republic</td>\n",
       "      <td>Mr FERNANDEZ G.</td>\n",
       "      <td></td>\n",
       "      <td>\\n\\n\\n Mr. President, it was a source of great...</td>\n",
       "    </tr>\n",
       "    <tr>\n",
       "      <th>21</th>\n",
       "      <td>25</td>\n",
       "      <td>1970</td>\n",
       "      <td>GMB</td>\n",
       "      <td>Gambia</td>\n",
       "      <td>Mr. JAWARA</td>\n",
       "      <td>President</td>\n",
       "      <td>2.\\tPresident : President of Gambia . Mr. Pres...</td>\n",
       "    </tr>\n",
       "    <tr>\n",
       "      <th>135</th>\n",
       "      <td>26</td>\n",
       "      <td>1971</td>\n",
       "      <td>MEX</td>\n",
       "      <td>Mexico</td>\n",
       "      <td>Mr. ECHEVERRIA ALVAREZ</td>\n",
       "      <td>President</td>\n",
       "      <td>2.\\t Mr. President, on behalf of the people an...</td>\n",
       "    </tr>\n",
       "    <tr>\n",
       "      <th>323</th>\n",
       "      <td>28</td>\n",
       "      <td>1973</td>\n",
       "      <td>BHS</td>\n",
       "      <td>Bahamas</td>\n",
       "      <td>Pindling</td>\n",
       "      <td>Prime Minister</td>\n",
       "      <td>﻿As this is the first opportunity which the Co...</td>\n",
       "    </tr>\n",
       "    <tr>\n",
       "      <th>...</th>\n",
       "      <td>...</td>\n",
       "      <td>...</td>\n",
       "      <td>...</td>\n",
       "      <td>...</td>\n",
       "      <td>...</td>\n",
       "      <td>...</td>\n",
       "      <td>...</td>\n",
       "    </tr>\n",
       "    <tr>\n",
       "      <th>7502</th>\n",
       "      <td>70</td>\n",
       "      <td>2015</td>\n",
       "      <td>YEM</td>\n",
       "      <td>Yemen</td>\n",
       "      <td>Mr. Abdrabuh Mansour Hadi Mansour</td>\n",
       "      <td>President</td>\n",
       "      <td>On behalf of the people and the Government of ...</td>\n",
       "    </tr>\n",
       "    <tr>\n",
       "      <th>7503</th>\n",
       "      <td>70</td>\n",
       "      <td>2015</td>\n",
       "      <td>YUG</td>\n",
       "      <td>Yugoslavia</td>\n",
       "      <td>Mr. Tomislav Nikolić</td>\n",
       "      <td>President</td>\n",
       "      <td>\\nSeventy years have passed since the establis...</td>\n",
       "    </tr>\n",
       "    <tr>\n",
       "      <th>7504</th>\n",
       "      <td>70</td>\n",
       "      <td>2015</td>\n",
       "      <td>ZAF</td>\n",
       "      <td>South Africa</td>\n",
       "      <td>Jacob Zuma</td>\n",
       "      <td>President</td>\n",
       "      <td>I should like to congratulate the President an...</td>\n",
       "    </tr>\n",
       "    <tr>\n",
       "      <th>7505</th>\n",
       "      <td>70</td>\n",
       "      <td>2015</td>\n",
       "      <td>ZMB</td>\n",
       "      <td>Zambia</td>\n",
       "      <td>Mr. Edgar Chagwa Lungu</td>\n",
       "      <td>President</td>\n",
       "      <td>I would like to begin by thanking the Secretar...</td>\n",
       "    </tr>\n",
       "    <tr>\n",
       "      <th>7506</th>\n",
       "      <td>70</td>\n",
       "      <td>2015</td>\n",
       "      <td>ZWE</td>\n",
       "      <td>Zimbabwe</td>\n",
       "      <td>Robert Mugabe</td>\n",
       "      <td>President</td>\n",
       "      <td>Allow me at the outset to extend to Mr. Mogens...</td>\n",
       "    </tr>\n",
       "  </tbody>\n",
       "</table>\n",
       "<p>4502 rows × 7 columns</p>\n",
       "</div>"
      ],
      "text/plain": [
       "      session  year country        country_name  \\\n",
       "9          25  1970     CMR            Cameroon   \n",
       "14         25  1970     DOM  Dominican Republic   \n",
       "21         25  1970     GMB              Gambia   \n",
       "135        26  1971     MEX              Mexico   \n",
       "323        28  1973     BHS             Bahamas   \n",
       "...       ...   ...     ...                 ...   \n",
       "7502       70  2015     YEM               Yemen   \n",
       "7503       70  2015     YUG          Yugoslavia   \n",
       "7504       70  2015     ZAF        South Africa   \n",
       "7505       70  2015     ZMB              Zambia   \n",
       "7506       70  2015     ZWE            Zimbabwe   \n",
       "\n",
       "                                speaker           position  \\\n",
       "9                            Mr. AHIDJO         President    \n",
       "14                      Mr FERNANDEZ G.                      \n",
       "21                           Mr. JAWARA         President    \n",
       "135              Mr. ECHEVERRIA ALVAREZ         President    \n",
       "323                            Pindling  Prime Minister      \n",
       "...                                 ...                ...   \n",
       "7502  Mr. Abdrabuh Mansour Hadi Mansour          President   \n",
       "7503               Mr. Tomislav Nikolić          President   \n",
       "7504                         Jacob Zuma          President   \n",
       "7505             Mr. Edgar Chagwa Lungu          President   \n",
       "7506                      Robert Mugabe          President   \n",
       "\n",
       "                                                   text  \n",
       "9     : A year ago I came here as the Acting Preside...  \n",
       "14    \\n\\n\\n Mr. President, it was a source of great...  \n",
       "21    2.\\tPresident : President of Gambia . Mr. Pres...  \n",
       "135   2.\\t Mr. President, on behalf of the people an...  \n",
       "323   ﻿As this is the first opportunity which the Co...  \n",
       "...                                                 ...  \n",
       "7502  On behalf of the people and the Government of ...  \n",
       "7503  \\nSeventy years have passed since the establis...  \n",
       "7504  I should like to congratulate the President an...  \n",
       "7505  I would like to begin by thanking the Secretar...  \n",
       "7506  Allow me at the outset to extend to Mr. Mogens...  \n",
       "\n",
       "[4502 rows x 7 columns]"
      ]
     },
     "execution_count": 10,
     "metadata": {},
     "output_type": "execute_result"
    }
   ],
   "source": [
    "df.query('position.notnull()', engine='python')"
   ]
  },
  {
   "cell_type": "markdown",
   "id": "63ce45bb",
   "metadata": {},
   "source": [
    "* we will handle this missing data later "
   ]
  },
  {
   "cell_type": "code",
   "execution_count": null,
   "id": "d57283af",
   "metadata": {},
   "outputs": [],
   "source": []
  },
  {
   "cell_type": "code",
   "execution_count": 23,
   "id": "4591018f",
   "metadata": {},
   "outputs": [
    {
     "data": {
      "text/plain": [
       "session            0\n",
       "year               0\n",
       "country            0\n",
       "country_name       0\n",
       "speaker           27\n",
       "position        3005\n",
       "text               0\n",
       "length             0\n",
       "dtype: int64"
      ]
     },
     "execution_count": 23,
     "metadata": {},
     "output_type": "execute_result"
    }
   ],
   "source": [
    "# 27 missing speaker values\n",
    "df.isna().sum()"
   ]
  },
  {
   "cell_type": "code",
   "execution_count": 24,
   "id": "28ec3bc5",
   "metadata": {},
   "outputs": [],
   "source": [
    "# as speaker is not overly important to us (looking for trends by country, year and topic of the speech) \n",
    "## can just quickly fill in these missing values with just that \"unknown\"\n",
    "df['speaker'].fillna('unknown', inplace=True)"
   ]
  },
  {
   "cell_type": "code",
   "execution_count": null,
   "id": "61778d6a",
   "metadata": {},
   "outputs": [],
   "source": []
  },
  {
   "cell_type": "code",
   "execution_count": null,
   "id": "20eb39fa",
   "metadata": {},
   "outputs": [],
   "source": []
  },
  {
   "cell_type": "markdown",
   "id": "c3fd34b0",
   "metadata": {},
   "source": [
    "## Basic overview of text stats\n",
    "* "
   ]
  },
  {
   "cell_type": "code",
   "execution_count": 12,
   "id": "09ca7c61",
   "metadata": {},
   "outputs": [],
   "source": [
    "# as text is \"object\" dtype, first convert to \"string\" then apply len, assign to new col named \"length\"\n",
    "df['length'] = df['text'].str.len()"
   ]
  },
  {
   "cell_type": "code",
   "execution_count": 17,
   "id": "d1735480",
   "metadata": {},
   "outputs": [
    {
     "data": {
      "text/html": [
       "<div>\n",
       "<style scoped>\n",
       "    .dataframe tbody tr th:only-of-type {\n",
       "        vertical-align: middle;\n",
       "    }\n",
       "\n",
       "    .dataframe tbody tr th {\n",
       "        vertical-align: top;\n",
       "    }\n",
       "\n",
       "    .dataframe thead th {\n",
       "        text-align: right;\n",
       "    }\n",
       "</style>\n",
       "<table border=\"1\" class=\"dataframe\">\n",
       "  <thead>\n",
       "    <tr style=\"text-align: right;\">\n",
       "      <th></th>\n",
       "      <th>count</th>\n",
       "      <th>unique</th>\n",
       "      <th>top</th>\n",
       "      <th>freq</th>\n",
       "    </tr>\n",
       "  </thead>\n",
       "  <tbody>\n",
       "    <tr>\n",
       "      <th>country</th>\n",
       "      <td>7507</td>\n",
       "      <td>199</td>\n",
       "      <td>ALB</td>\n",
       "      <td>46</td>\n",
       "    </tr>\n",
       "    <tr>\n",
       "      <th>speaker</th>\n",
       "      <td>7480</td>\n",
       "      <td>5428</td>\n",
       "      <td>Seyoum Mesfin</td>\n",
       "      <td>12</td>\n",
       "    </tr>\n",
       "  </tbody>\n",
       "</table>\n",
       "</div>"
      ],
      "text/plain": [
       "        count unique            top freq\n",
       "country  7507    199            ALB   46\n",
       "speaker  7480   5428  Seyoum Mesfin   12"
      ]
     },
     "execution_count": 17,
     "metadata": {},
     "output_type": "execute_result"
    }
   ],
   "source": [
    "# inspect summary for non-numerical columns\n",
    "df[['country','speaker']].describe(include='O').T"
   ]
  },
  {
   "cell_type": "markdown",
   "id": "db16eaa7",
   "metadata": {},
   "source": [
    "* 199 unique countries\n",
    "* 5428 unique speakers seems ... perhaps extreme\n",
    "    * will need to investigate further "
   ]
  },
  {
   "cell_type": "code",
   "execution_count": 18,
   "id": "a095cd3d",
   "metadata": {},
   "outputs": [
    {
     "data": {
      "text/html": [
       "<div>\n",
       "<style scoped>\n",
       "    .dataframe tbody tr th:only-of-type {\n",
       "        vertical-align: middle;\n",
       "    }\n",
       "\n",
       "    .dataframe tbody tr th {\n",
       "        vertical-align: top;\n",
       "    }\n",
       "\n",
       "    .dataframe thead th {\n",
       "        text-align: right;\n",
       "    }\n",
       "</style>\n",
       "<table border=\"1\" class=\"dataframe\">\n",
       "  <thead>\n",
       "    <tr style=\"text-align: right;\">\n",
       "      <th></th>\n",
       "      <th>count</th>\n",
       "      <th>mean</th>\n",
       "      <th>std</th>\n",
       "      <th>min</th>\n",
       "      <th>25%</th>\n",
       "      <th>50%</th>\n",
       "      <th>75%</th>\n",
       "      <th>max</th>\n",
       "    </tr>\n",
       "  </thead>\n",
       "  <tbody>\n",
       "    <tr>\n",
       "      <th>session</th>\n",
       "      <td>7507.0</td>\n",
       "      <td>49.610763</td>\n",
       "      <td>12.892155</td>\n",
       "      <td>25.0</td>\n",
       "      <td>39.0</td>\n",
       "      <td>51.0</td>\n",
       "      <td>61.0</td>\n",
       "      <td>70.0</td>\n",
       "    </tr>\n",
       "    <tr>\n",
       "      <th>year</th>\n",
       "      <td>7507.0</td>\n",
       "      <td>1994.610763</td>\n",
       "      <td>12.892155</td>\n",
       "      <td>1970.0</td>\n",
       "      <td>1984.0</td>\n",
       "      <td>1996.0</td>\n",
       "      <td>2006.0</td>\n",
       "      <td>2015.0</td>\n",
       "    </tr>\n",
       "    <tr>\n",
       "      <th>length</th>\n",
       "      <td>7507.0</td>\n",
       "      <td>17967.281604</td>\n",
       "      <td>7860.038463</td>\n",
       "      <td>2362.0</td>\n",
       "      <td>12077.0</td>\n",
       "      <td>16424.0</td>\n",
       "      <td>22479.5</td>\n",
       "      <td>72041.0</td>\n",
       "    </tr>\n",
       "  </tbody>\n",
       "</table>\n",
       "</div>"
      ],
      "text/plain": [
       "          count          mean          std     min      25%      50%      75%  \\\n",
       "session  7507.0     49.610763    12.892155    25.0     39.0     51.0     61.0   \n",
       "year     7507.0   1994.610763    12.892155  1970.0   1984.0   1996.0   2006.0   \n",
       "length   7507.0  17967.281604  7860.038463  2362.0  12077.0  16424.0  22479.5   \n",
       "\n",
       "             max  \n",
       "session     70.0  \n",
       "year      2015.0  \n",
       "length   72041.0  "
      ]
     },
     "execution_count": 18,
     "metadata": {},
     "output_type": "execute_result"
    }
   ],
   "source": [
    "# repeat for numerical columns\n",
    "## obviously, mean and std etc. for year/session are non-sensical\n",
    "df.describe().T"
   ]
  },
  {
   "cell_type": "markdown",
   "id": "3659587f",
   "metadata": {},
   "source": [
    "* given we know the data is from 25th to the 70th UN generate debate sessions; the years 1970-2015 make sense\n",
    "* Not much to do with the stats about length just yet\n",
    "    * but we can see there is a right-skewed distribution \n",
    "    * Apparent also as the average is greater than the median + max value is far from the average while min is a fair amount closer to the centre of the data "
   ]
  },
  {
   "cell_type": "code",
   "execution_count": 22,
   "id": "0831fdcc",
   "metadata": {},
   "outputs": [
    {
     "data": {
      "image/png": "[encoded data removed]",
      "text/plain": [
       "<Figure size 432x288 with 1 Axes>"
      ]
     },
     "metadata": {
      "needs_background": "light"
     },
     "output_type": "display_data"
    }
   ],
   "source": [
    "# just for curiosity, we can confirm visually this right-skew with a simple KDE \n",
    "sns.kdeplot(data=df, x='length');"
   ]
  },
  {
   "cell_type": "code",
   "execution_count": null,
   "id": "aa0026c1",
   "metadata": {},
   "outputs": [],
   "source": []
  },
  {
   "cell_type": "code",
   "execution_count": null,
   "id": "e4745424",
   "metadata": {},
   "outputs": [],
   "source": []
  },
  {
   "cell_type": "markdown",
   "id": "3b78fd07",
   "metadata": {},
   "source": [
    "### Also inspect some specifics on length for the permanent members of the UN security council "
   ]
  },
  {
   "cell_type": "code",
   "execution_count": 35,
   "id": "f47ed527",
   "metadata": {},
   "outputs": [],
   "source": [
    "# set a mask variable for the main DF where the data is in (united states, france, great britan, china, russia) respectively\n",
    "un_perm_members = df['country'].isin(['USA','FRA','GBR','CHN','RUS'])"
   ]
  },
  {
   "cell_type": "code",
   "execution_count": 41,
   "id": "7ff1f2be",
   "metadata": {},
   "outputs": [
    {
     "data": {
      "image/png": "[encoded data removed]",
      "text/plain": [
       "<Figure size 360x360 with 1 Axes>"
      ]
     },
     "metadata": {
      "needs_background": "light"
     },
     "output_type": "display_data"
    }
   ],
   "source": [
    "sns.catplot(data=df[un_perm_members], \n",
    "           x = 'country',\n",
    "           y = 'length', \n",
    "           kind='box');"
   ]
  },
  {
   "cell_type": "code",
   "execution_count": 43,
   "id": "2f6ec791",
   "metadata": {},
   "outputs": [
    {
     "data": {
      "image/png": "[encoded data removed]",
      "text/plain": [
       "<Figure size 400x300 with 1 Axes>"
      ]
     },
     "metadata": {
      "needs_background": "light"
     },
     "output_type": "display_data"
    },
    {
     "data": {
      "image/png": "[encoded data removed]",
      "text/plain": [
       "<Figure size 400x300 with 1 Axes>"
      ]
     },
     "metadata": {
      "needs_background": "light"
     },
     "output_type": "display_data"
    }
   ],
   "source": [
    "g = sns.catplot(data=df[un_perm_members], x=\"country\", y=\"length\", kind='box')\n",
    "g.fig.set_size_inches(4, 3) ###\n",
    "g.fig.set_dpi(100) ###\n",
    "g = sns.catplot(data=df[un_perm_members], x=\"country\", y=\"length\", kind='violin')\n",
    "g.fig.set_size_inches(4, 3) ###\n",
    "g.fig.set_dpi(100) ###"
   ]
  },
  {
   "cell_type": "code",
   "execution_count": null,
   "id": "997ab065",
   "metadata": {},
   "outputs": [],
   "source": []
  },
  {
   "cell_type": "code",
   "execution_count": null,
   "id": "fa9da991",
   "metadata": {},
   "outputs": [],
   "source": []
  },
  {
   "cell_type": "markdown",
   "id": "c05921d2",
   "metadata": {},
   "source": [
    "## Try inspect the large amount of unique speaker values\n",
    "* let's start with a country where we are more familiar with the presidents (aka more recognisable names) \n",
    "    * E.G. the USA"
   ]
  },
  {
   "cell_type": "code",
   "execution_count": 34,
   "id": "7e8fad03",
   "metadata": {},
   "outputs": [
    {
     "name": "stdout",
     "output_type": "stream",
     "text": [
      "Barack Obama\n",
      "Bill Clinton\n",
      "Bush\n",
      "Condoleezza Rice\n",
      "GEORGE BUSH\n",
      "George Bush\n",
      "George W. Bush\n",
      "Jimmy Carter\n",
      "Kissinger\n",
      "Madeleine Korbel Albright\n",
      "Mr Haig \n",
      "Mr.  Kissinger\n",
      "Mr. Christopher\n",
      "Mr. George BUSH\n",
      "Mr. George W Bush\n",
      "Mr. George W. Bush\n",
      "Mr. Kissinger\n",
      "Mr. ROGERS\n",
      "Mr. Rogers \n",
      "Mr. Shultz\n",
      "Mr. William Clinton\n",
      "Mr. YOST\n",
      "Muskie\n",
      "President Reagan\n",
      "RONALD REAGAN\n",
      "Reagan\n",
      "Ronald Reagan\n",
      "SHULTZ \n",
      "Vance\n",
      "William Clinton\n",
      "William J. Clinton\n",
      "William Jefferson Clinton\n"
     ]
    }
   ],
   "source": [
    "# let's print out each unique speaker for the USA\n",
    "for i in (np.unique(df.query('country==\"USA\"')['speaker'])):\n",
    "    print(i)"
   ]
  },
  {
   "cell_type": "markdown",
   "id": "19c5953b",
   "metadata": {},
   "source": [
    "* We can see a few different iterations for Bush, Kissinger, Clintons etc. \n",
    "* There are multiple spellings for multiple different speakers, most likely this is for every country too\n",
    "* given our analysis is not initially focused on the speaker, we can ignore this for now and rectify it later if we want to dive deeper into the speaker analysis"
   ]
  },
  {
   "cell_type": "code",
   "execution_count": 30,
   "id": "99f08150",
   "metadata": {},
   "outputs": [
    {
     "data": {
      "text/plain": [
       "George W. Bush        4\n",
       "Mr. George W. Bush    2\n",
       "Bush                  1\n",
       "George Bush           1\n",
       "Mr. George W Bush     1\n",
       "Name: speaker, dtype: int64"
      ]
     },
     "execution_count": 30,
     "metadata": {},
     "output_type": "execute_result"
    }
   ],
   "source": [
    "#E.G. all the different spellings containing \"bush\"\n",
    "df[df['speaker'].str.contains('Bush')]['speaker'].value_counts()"
   ]
  },
  {
   "cell_type": "code",
   "execution_count": null,
   "id": "86425da9",
   "metadata": {},
   "outputs": [],
   "source": []
  },
  {
   "cell_type": "code",
   "execution_count": null,
   "id": "20ee2155",
   "metadata": {},
   "outputs": [],
   "source": []
  },
  {
   "cell_type": "code",
   "execution_count": null,
   "id": "057f77e0",
   "metadata": {},
   "outputs": [],
   "source": []
  },
  {
   "cell_type": "code",
   "execution_count": null,
   "id": "44150bd2",
   "metadata": {},
   "outputs": [],
   "source": []
  }
 ],
 "metadata": {
  "kernelspec": {
   "display_name": "Python 3 (ipykernel)",
   "language": "python",
   "name": "python3"
  },
  "language_info": {
   "codemirror_mode": {
    "name": "ipython",
    "version": 3
   },
   "file_extension": ".py",
   "mimetype": "text/x-python",
   "name": "python",
   "nbconvert_exporter": "python",
   "pygments_lexer": "ipython3",
   "version": "3.9.7"
  }
 },
 "nbformat": 4,
 "nbformat_minor": 5
}
