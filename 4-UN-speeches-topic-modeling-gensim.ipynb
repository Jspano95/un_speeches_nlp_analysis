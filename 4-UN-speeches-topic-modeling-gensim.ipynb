{
 "cells": [
  {
   "cell_type": "code",
   "execution_count": 2,
   "id": "7ad88cf5",
   "metadata": {},
   "outputs": [],
   "source": [
    "import pandas as pd \n",
    "import numpy as np \n",
    "import matplotlib.pyplot as plt\n",
    "%matplotlib inline\n",
    "import regex as re \n",
    "import nltk\n",
    "from nltk import word_tokenize, pos_tag"
   ]
  },
  {
   "cell_type": "code",
   "execution_count": 48,
   "id": "5f79641e",
   "metadata": {},
   "outputs": [],
   "source": [
    "# gensim \n",
    "# conda install -c conda-forge gensim\n",
    "from gensim.corpora import Dictionary\n",
    "from gensim.models import TfidfModel, LdaModel\n",
    "from gensim.models.nmf import Nmf"
   ]
  },
  {
   "cell_type": "code",
   "execution_count": 3,
   "id": "01d3f62d",
   "metadata": {},
   "outputs": [],
   "source": [
    "# read pickled DF from notebook #1 (initial exploratory data visuals)\n",
    "df = pd.read_pickle('df_un_general_debates.pkl')"
   ]
  },
  {
   "cell_type": "code",
   "execution_count": null,
   "id": "e754a43b",
   "metadata": {},
   "outputs": [],
   "source": []
  },
  {
   "cell_type": "code",
   "execution_count": null,
   "id": "b2f45c11",
   "metadata": {},
   "outputs": [],
   "source": []
  },
  {
   "cell_type": "markdown",
   "id": "c945e4b2",
   "metadata": {},
   "source": [
    "# GENSIM\n",
    "* Requires some slightly different formating compared with sklearn but fundamentally the same logic\n",
    "\n",
    "\n",
    "\n",
    "###  For clarity, repeat some steps taken in notebook to prepare the text data #3\n",
    "* re-initialise tf-idf vectorizer etc. "
   ]
  },
  {
   "cell_type": "code",
   "execution_count": 5,
   "id": "4bd09369",
   "metadata": {},
   "outputs": [
    {
     "name": "stdout",
     "output_type": "stream",
     "text": [
      "Wall time: 1.21 s\n"
     ]
    }
   ],
   "source": [
    "%%time\n",
    "## see notebook #3 for details on logic\n",
    "# define the number of paragraphs of the text, splitting on the punctuation and ignoring the whitespace after them\n",
    "df[\"paragraphs\"] = df[\"text\"].map(lambda text: re.split('[.?!]\\s*\\n', text))"
   ]
  },
  {
   "cell_type": "code",
   "execution_count": null,
   "id": "23a44abe",
   "metadata": {},
   "outputs": [],
   "source": []
  },
  {
   "cell_type": "code",
   "execution_count": 116,
   "id": "17d0bc8e",
   "metadata": {},
   "outputs": [],
   "source": [
    "# re-construct stopwords with additional corpus-specific elements (from notebook #2) to pass into tfidf_vectoriser \n",
    "stopwords = set(nltk.corpus.stopwords.words('english'))"
   ]
  },
  {
   "cell_type": "code",
   "execution_count": 117,
   "id": "093a54af",
   "metadata": {},
   "outputs": [],
   "source": [
    "# make manual adjustments \n",
    "additional_stopwords = {'dear','regards','also','would','must'}\n",
    "exclude_stopwords = {'against'}\n",
    "\n",
    "# user set operators to add or remove these elements from our base collection\n",
    "stopwords |= additional_stopwords\n",
    "\n",
    "## use the set difference to remove these words \n",
    "stopwords -= exclude_stopwords "
   ]
  },
  {
   "cell_type": "code",
   "execution_count": 89,
   "id": "8994ccaa",
   "metadata": {},
   "outputs": [],
   "source": [
    "# reconstruct paragraph df \n",
    "paragraph_df = pd.DataFrame([{ \"text\": paragraph, \"year\": year } \n",
    "                               for paragraphs, year in zip(df[\"paragraphs\"], df[\"year\"]) \n",
    "                                    for paragraph in paragraphs if paragraph])"
   ]
  },
  {
   "cell_type": "code",
   "execution_count": 19,
   "id": "f69a7283",
   "metadata": {},
   "outputs": [
    {
     "data": {
      "text/html": [
       "<div>\n",
       "<style scoped>\n",
       "    .dataframe tbody tr th:only-of-type {\n",
       "        vertical-align: middle;\n",
       "    }\n",
       "\n",
       "    .dataframe tbody tr th {\n",
       "        vertical-align: top;\n",
       "    }\n",
       "\n",
       "    .dataframe thead th {\n",
       "        text-align: right;\n",
       "    }\n",
       "</style>\n",
       "<table border=\"1\" class=\"dataframe\">\n",
       "  <thead>\n",
       "    <tr style=\"text-align: right;\">\n",
       "      <th></th>\n",
       "      <th>text</th>\n",
       "      <th>year</th>\n",
       "    </tr>\n",
       "  </thead>\n",
       "  <tbody>\n",
       "    <tr>\n",
       "      <th>0</th>\n",
       "      <td>33: May I first convey to our President the co...</td>\n",
       "      <td>1970</td>\n",
       "    </tr>\n",
       "    <tr>\n",
       "      <th>1</th>\n",
       "      <td>34.\\tIn taking up the work on the agenda of th...</td>\n",
       "      <td>1970</td>\n",
       "    </tr>\n",
       "  </tbody>\n",
       "</table>\n",
       "</div>"
      ],
      "text/plain": [
       "                                                text  year\n",
       "0  33: May I first convey to our President the co...  1970\n",
       "1  34.\\tIn taking up the work on the agenda of th...  1970"
      ]
     },
     "execution_count": 19,
     "metadata": {},
     "output_type": "execute_result"
    }
   ],
   "source": [
    "# E.G. \n",
    "paragraph_df.head(2)"
   ]
  },
  {
   "cell_type": "code",
   "execution_count": null,
   "id": "3bcc3c68",
   "metadata": {},
   "outputs": [],
   "source": []
  },
  {
   "cell_type": "code",
   "execution_count": 90,
   "id": "33970c22",
   "metadata": {},
   "outputs": [],
   "source": [
    "# gensim has no integrated tokenizer, expects each line is already tokenised \n",
    "## \\b = word boundaries \n",
    "## \\w = any alphanumeric char; equivalent to class: [a-zA-Z0-9]\n",
    "gensim_paragraphs = [[w for w in re.findall(r'\\b\\w\\w+\\b' , paragraph.lower()) if w not in stopwords] \n",
    "                           for paragraph in paragraph_df[\"text\"]]"
   ]
  },
  {
   "cell_type": "code",
   "execution_count": null,
   "id": "59261c6c",
   "metadata": {},
   "outputs": [],
   "source": []
  },
  {
   "cell_type": "code",
   "execution_count": 18,
   "id": "b1e60ac3",
   "metadata": {},
   "outputs": [
    {
     "data": {
      "text/plain": [
       "[['33',\n",
       "  'may',\n",
       "  'first',\n",
       "  'convey',\n",
       "  'president',\n",
       "  'congratulations',\n",
       "  'albanian',\n",
       "  'delegation',\n",
       "  'election',\n",
       "  'presidency',\n",
       "  'twenty',\n",
       "  'fifth',\n",
       "  'session',\n",
       "  'general',\n",
       "  'assembly'],\n",
       " ['34',\n",
       "  'taking',\n",
       "  'work',\n",
       "  'agenda',\n",
       "  'twenty',\n",
       "  'fifth',\n",
       "  'session',\n",
       "  'general',\n",
       "  'assembly',\n",
       "  'held',\n",
       "  'eve',\n",
       "  'twenty',\n",
       "  'fifth',\n",
       "  'anniversary',\n",
       "  'coming',\n",
       "  'force',\n",
       "  'charter',\n",
       "  'united',\n",
       "  'nations',\n",
       "  'peace',\n",
       "  'loving',\n",
       "  'member',\n",
       "  'states',\n",
       "  'wished',\n",
       "  'position',\n",
       "  'present',\n",
       "  'occasion',\n",
       "  'picture',\n",
       "  'positive',\n",
       "  'satisfactory',\n",
       "  'activity',\n",
       "  'part',\n",
       "  'united',\n",
       "  'nations',\n",
       "  'albanian',\n",
       "  'delegation',\n",
       "  'part',\n",
       "  'taken',\n",
       "  'great',\n",
       "  'pleasure',\n",
       "  'drawing',\n",
       "  'balance',\n",
       "  'sheet',\n",
       "  'activities',\n",
       "  'covering',\n",
       "  'quarter',\n",
       "  'century',\n",
       "  'certainly',\n",
       "  'short',\n",
       "  'period',\n",
       "  'life',\n",
       "  'international',\n",
       "  'organization',\n",
       "  'unfortunately',\n",
       "  'situation',\n",
       "  'created',\n",
       "  'day',\n",
       "  'victory',\n",
       "  'achieved',\n",
       "  'powers',\n",
       "  'rome',\n",
       "  'berlintokyo',\n",
       "  'axis',\n",
       "  'conceived',\n",
       "  'spirit',\n",
       "  'principles',\n",
       "  'predominated',\n",
       "  'war',\n",
       "  'antifascist',\n",
       "  'coalition',\n",
       "  'organization',\n",
       "  'awakened',\n",
       "  'whole',\n",
       "  'progressive',\n",
       "  'humanity',\n",
       "  'hope',\n",
       "  'serve',\n",
       "  'important',\n",
       "  'factor',\n",
       "  'creating',\n",
       "  'better',\n",
       "  'international',\n",
       "  'conditions',\n",
       "  'order',\n",
       "  'favor',\n",
       "  'cause',\n",
       "  'freedom',\n",
       "  'peace',\n",
       "  'world',\n",
       "  'security',\n",
       "  'activities',\n",
       "  'number',\n",
       "  'events',\n",
       "  'occurred',\n",
       "  'world',\n",
       "  'arena',\n",
       "  'period',\n",
       "  'disappointed',\n",
       "  'hopes',\n",
       "  'peoples',\n",
       "  'united',\n",
       "  'nations',\n",
       "  'far',\n",
       "  'contributed',\n",
       "  'required',\n",
       "  'fundamental',\n",
       "  'provisions',\n",
       "  'charter',\n",
       "  'consolidation',\n",
       "  'international',\n",
       "  'peace',\n",
       "  'security',\n",
       "  'liberation',\n",
       "  'struggle',\n",
       "  'peoples',\n",
       "  'contrary',\n",
       "  'diktat',\n",
       "  'imperialist',\n",
       "  'powers',\n",
       "  'united',\n",
       "  'states',\n",
       "  'america',\n",
       "  'foremost',\n",
       "  'among',\n",
       "  'embarked',\n",
       "  'path',\n",
       "  'diametrically',\n",
       "  'opposed',\n",
       "  'principles',\n",
       "  'served',\n",
       "  'instrument',\n",
       "  'favoring',\n",
       "  'policy',\n",
       "  'pillage',\n",
       "  'oppression',\n",
       "  'aggression',\n",
       "  'against',\n",
       "  'peace',\n",
       "  'loving',\n",
       "  'peoples',\n",
       "  'countries']]"
      ]
     },
     "execution_count": 18,
     "metadata": {},
     "output_type": "execute_result"
    }
   ],
   "source": [
    "# can see the required formatting is slightly different\n",
    "## we also lose the year for time based trends analysis\n",
    "gensim_paragraphs[0:2]"
   ]
  },
  {
   "cell_type": "code",
   "execution_count": 91,
   "id": "15a4e6be",
   "metadata": {},
   "outputs": [],
   "source": [
    "## uses: from gensim.corpora import Dictionary\n",
    "## need to initialise a gensim dict of these tokenised documents (currently in list format)\n",
    "## the dic = mapping from words to columns\n",
    "dict_gensim_para = Dictionary(gensim_paragraphs)"
   ]
  },
  {
   "cell_type": "code",
   "execution_count": 25,
   "id": "9eb2a9bb",
   "metadata": {},
   "outputs": [
    {
     "data": {
      "text/plain": [
       "{0: '33',\n",
       " 1: 'albanian',\n",
       " 2: 'assembly',\n",
       " 3: 'congratulations',\n",
       " 4: 'convey',\n",
       " 5: 'delegation',\n",
       " 6: 'election',\n",
       " 7: 'fifth',\n",
       " 8: 'first',\n",
       " 9: 'general'}"
      ]
     },
     "execution_count": 25,
     "metadata": {},
     "output_type": "execute_result"
    }
   ],
   "source": [
    "# E.G. \n",
    "dict(list(dict_gensim_para.items())[:10])"
   ]
  },
  {
   "cell_type": "code",
   "execution_count": null,
   "id": "96c65761",
   "metadata": {},
   "outputs": [],
   "source": []
  },
  {
   "cell_type": "markdown",
   "id": "9f2ff304",
   "metadata": {},
   "source": [
    "* Can use gensim's `filter_extremes` siilar to scikit-learn's `TdidfVectorizer` to reduce the vocabulary size by filtering out words which appear too often or not enough\n",
    "* Notation is like:\n",
    "    * gensim's `no_below` = sklearn's `min_df`\n",
    "    * Equivalently for no_above = max_df\n",
    "    * Same integer and float rules apply "
   ]
  },
  {
   "cell_type": "code",
   "execution_count": 92,
   "id": "3b5e6985",
   "metadata": {},
   "outputs": [],
   "source": [
    "# cut off absolute values below 5 (min words which appear in 5 documents)\n",
    "# and cut off by not appearing in more than 70% of the documents \n",
    "dict_gensim_para.filter_extremes(no_below=5, no_above=0.7)"
   ]
  },
  {
   "cell_type": "code",
   "execution_count": null,
   "id": "0e78ea89",
   "metadata": {},
   "outputs": [],
   "source": []
  },
  {
   "cell_type": "markdown",
   "id": "0b19fe79",
   "metadata": {},
   "source": [
    "### Calculate gensim's \"bag-of-words\" matrix (labelled a corpus in Gensim)\n",
    "* Uses Gensim's `doc2bow` short for document to bag-of-words, included in gensim dict package\n",
    "* Then apply the tf-idf transformation using gensim.models `TfidfModel`"
   ]
  },
  {
   "cell_type": "code",
   "execution_count": 93,
   "id": "37331f22",
   "metadata": {},
   "outputs": [],
   "source": [
    "# bag-of-words initialisation \n",
    "bow_gensim_para = [dict_gensim_para.doc2bow(paragraph) for paragraph in gensim_paragraphs]"
   ]
  },
  {
   "cell_type": "code",
   "execution_count": 31,
   "id": "1d038d91",
   "metadata": {},
   "outputs": [
    {
     "data": {
      "text/plain": [
       "[[(0, 1),\n",
       "  (1, 1),\n",
       "  (2, 1),\n",
       "  (3, 1),\n",
       "  (4, 1),\n",
       "  (5, 1),\n",
       "  (6, 1),\n",
       "  (7, 1),\n",
       "  (8, 1),\n",
       "  (9, 1),\n",
       "  (10, 1),\n",
       "  (11, 1),\n",
       "  (12, 1),\n",
       "  (13, 1),\n",
       "  (14, 1)]]"
      ]
     },
     "execution_count": 31,
     "metadata": {},
     "output_type": "execute_result"
    }
   ],
   "source": [
    "# E.G. BOW representation \n",
    "bow_gensim_para[:1]"
   ]
  },
  {
   "cell_type": "code",
   "execution_count": null,
   "id": "c54ef573",
   "metadata": {},
   "outputs": [],
   "source": []
  },
  {
   "cell_type": "code",
   "execution_count": 94,
   "id": "76d1100b",
   "metadata": {},
   "outputs": [],
   "source": [
    "## apply tfidf model from gensim \n",
    "\n",
    "# fit the BOW model \n",
    "tfidf_gensim_para = TfidfModel(bow_gensim_para)\n",
    "\n",
    "# transform the weights to tfidf weights \n",
    "vectors_gensim_para = tfidf_gensim_para[bow_gensim_para]"
   ]
  },
  {
   "cell_type": "code",
   "execution_count": null,
   "id": "7f70c09f",
   "metadata": {},
   "outputs": [],
   "source": []
  },
  {
   "cell_type": "markdown",
   "id": "11e9e4ef",
   "metadata": {},
   "source": [
    "## NON-NEGATIVE MATRIX FACTORISATION WITH GENSIM\n",
    "* Base Model params:\n",
    "    * `num_topics` = number of topics to extract\n",
    "    * `kappa` = gradient descent step size; larger value makes model train faster but could lead to non-convergence if too large\n",
    "    * `eval_every` = number of batches after which L2 norm of (v-Wh) is computed, where:\n",
    "        * v = word-document matrix (input corpus)\n",
    "        * W = word-topic matrix\n",
    "        * h = topic-document matrix\n",
    "        \n",
    "        \n",
    "* see docs for more information:\n",
    "    * https://radimrehurek.com/gensim/models/nmf.html"
   ]
  },
  {
   "cell_type": "code",
   "execution_count": 95,
   "id": "039ecc23",
   "metadata": {},
   "outputs": [],
   "source": [
    "nmf_gensim_para = Nmf(vectors_gensim_para, num_topics=10,\n",
    "                      id2word=dict_gensim_para, kappa=0.1, eval_every=5)"
   ]
  },
  {
   "cell_type": "code",
   "execution_count": 53,
   "id": "6e7f2e99",
   "metadata": {},
   "outputs": [],
   "source": [
    "## there is an inbuilt print topics function but it's a little ugly by default \n",
    "# nmf_gensim_para.print_topics()"
   ]
  },
  {
   "cell_type": "code",
   "execution_count": 54,
   "id": "66e5e8aa",
   "metadata": {},
   "outputs": [],
   "source": [
    "# define function for displaying gensim topics \n",
    "def display_topics_gensim(model):\n",
    "    for topic in range(0, model.num_topics):\n",
    "        print(\"\\nTopic %02d\" % topic)\n",
    "        for (word, prob) in model.show_topic(topic, topn=6):\n",
    "            print(\"  %s (%2.3f)\" % (word, prob))"
   ]
  },
  {
   "cell_type": "code",
   "execution_count": 55,
   "id": "0b12a667",
   "metadata": {},
   "outputs": [
    {
     "name": "stdout",
     "output_type": "stream",
     "text": [
      "\n",
      "Topic 00\n",
      "  east (0.018)\n",
      "  middle (0.016)\n",
      "  israel (0.015)\n",
      "  peace (0.014)\n",
      "  security (0.014)\n",
      "  arab (0.013)\n",
      "\n",
      "Topic 01\n",
      "  nations (0.014)\n",
      "  united (0.013)\n",
      "  world (0.010)\n",
      "  organization (0.009)\n",
      "  peace (0.008)\n",
      "  security (0.006)\n",
      "\n",
      "Topic 02\n",
      "  human (0.015)\n",
      "  rights (0.013)\n",
      "  international (0.010)\n",
      "  law (0.008)\n",
      "  conference (0.006)\n",
      "  sea (0.006)\n",
      "\n",
      "Topic 03\n",
      "  general (0.024)\n",
      "  assembly (0.020)\n",
      "  secretary (0.011)\n",
      "  delegation (0.010)\n",
      "  session (0.009)\n",
      "  president (0.008)\n",
      "\n",
      "Topic 04\n",
      "  republic (0.041)\n",
      "  people (0.025)\n",
      "  china (0.016)\n",
      "  democratic (0.015)\n",
      "  korea (0.015)\n",
      "  united (0.014)\n",
      "\n",
      "Topic 05\n",
      "  countries (0.018)\n",
      "  development (0.015)\n",
      "  nuclear (0.015)\n",
      "  economic (0.014)\n",
      "  developing (0.014)\n",
      "  weapons (0.010)\n",
      "\n",
      "Topic 06\n",
      "  peoples (0.021)\n",
      "  people (0.015)\n",
      "  struggle (0.014)\n",
      "  against (0.011)\n",
      "  independence (0.010)\n",
      "  freedom (0.009)\n",
      "\n",
      "Topic 07\n",
      "  international (0.008)\n",
      "  states (0.007)\n",
      "  non (0.006)\n",
      "  relations (0.006)\n",
      "  co (0.005)\n",
      "  countries (0.005)\n",
      "\n",
      "Topic 08\n",
      "  africa (0.024)\n",
      "  african (0.016)\n",
      "  south (0.014)\n",
      "  namibia (0.010)\n",
      "  apartheid (0.010)\n",
      "  southern (0.010)\n",
      "\n",
      "Topic 09\n",
      "  session (0.026)\n",
      "  mr (0.018)\n",
      "  election (0.014)\n",
      "  president (0.014)\n",
      "  like (0.013)\n",
      "  assembly (0.012)\n"
     ]
    }
   ],
   "source": [
    "# display topics \n",
    "display_topics_gensim(nmf_gensim_para)"
   ]
  },
  {
   "cell_type": "code",
   "execution_count": null,
   "id": "0ab8af82",
   "metadata": {},
   "outputs": [],
   "source": []
  },
  {
   "cell_type": "code",
   "execution_count": null,
   "id": "2a249cff",
   "metadata": {},
   "outputs": [],
   "source": []
  },
  {
   "cell_type": "markdown",
   "id": "b87fbb8c",
   "metadata": {},
   "source": [
    "## GENSIM (Latent Dirichlet Allocation) LDA \n",
    "* `id2word` = mapping from word IDs to words\n",
    "* `chunksize` = number of documents to be used in each training chunk \n",
    "* `passes` = number of passes through the corpus during training\n",
    "* `alpha` = A-prior belief of document-topic distribution (we will leave as auto)\n",
    "* `eta` = A-prior belief of topic-word distribution (we will leave as auto)\n",
    "* `iterations` = max number of iterations when trying to infer the topic distribution \n",
    "* We will set a random_state so the code is reproducable \n",
    "\n",
    "* Documentation here: \n",
    "    * https://radimrehurek.com/gensim/models/ldamodel.html"
   ]
  },
  {
   "cell_type": "code",
   "execution_count": null,
   "id": "2da359fb",
   "metadata": {},
   "outputs": [],
   "source": []
  },
  {
   "cell_type": "code",
   "execution_count": 49,
   "id": "3375150c",
   "metadata": {},
   "outputs": [
    {
     "name": "stdout",
     "output_type": "stream",
     "text": [
      "Wall time: 15min 53s\n"
     ]
    }
   ],
   "source": [
    "%%time\n",
    "\n",
    "lda_gensim_para = LdaModel(corpus=bow_gensim_para, id2word=dict_gensim_para, chunksize=2000,\n",
    "    alpha='auto', eta='auto', iterations=400, num_topics=10, passes=20, eval_every=None, random_state=42)"
   ]
  },
  {
   "cell_type": "code",
   "execution_count": 51,
   "id": "fe4b205d",
   "metadata": {},
   "outputs": [],
   "source": [
    "# lda_gensim_para.print_topics()"
   ]
  },
  {
   "cell_type": "code",
   "execution_count": 56,
   "id": "d6f08b46",
   "metadata": {},
   "outputs": [
    {
     "name": "stdout",
     "output_type": "stream",
     "text": [
      "\n",
      "Topic 00\n",
      "  years (0.032)\n",
      "  year (0.030)\n",
      "  government (0.021)\n",
      "  conference (0.016)\n",
      "  since (0.012)\n",
      "  ago (0.012)\n",
      "\n",
      "Topic 01\n",
      "  africa (0.073)\n",
      "  african (0.068)\n",
      "  continent (0.024)\n",
      "  libya (0.019)\n",
      "  crimes (0.017)\n",
      "  crime (0.017)\n",
      "\n",
      "Topic 02\n",
      "  development (0.059)\n",
      "  countries (0.035)\n",
      "  economic (0.023)\n",
      "  global (0.019)\n",
      "  climate (0.019)\n",
      "  sustainable (0.018)\n",
      "\n",
      "Topic 03\n",
      "  world (0.029)\n",
      "  human (0.018)\n",
      "  us (0.017)\n",
      "  rights (0.015)\n",
      "  one (0.013)\n",
      "  today (0.010)\n",
      "\n",
      "Topic 04\n",
      "  republic (0.036)\n",
      "  regional (0.033)\n",
      "  cooperation (0.031)\n",
      "  region (0.028)\n",
      "  union (0.028)\n",
      "  dialogue (0.027)\n",
      "\n",
      "Topic 05\n",
      "  people (0.094)\n",
      "  country (0.033)\n",
      "  against (0.028)\n",
      "  syria (0.017)\n",
      "  government (0.017)\n",
      "  children (0.014)\n",
      "\n",
      "Topic 06\n",
      "  peace (0.040)\n",
      "  conflict (0.035)\n",
      "  east (0.022)\n",
      "  state (0.021)\n",
      "  solution (0.020)\n",
      "  middle (0.019)\n",
      "\n",
      "Topic 07\n",
      "  nuclear (0.062)\n",
      "  weapons (0.060)\n",
      "  convention (0.031)\n",
      "  arms (0.026)\n",
      "  non (0.026)\n",
      "  treaty (0.023)\n",
      "\n",
      "Topic 08\n",
      "  nations (0.040)\n",
      "  united (0.039)\n",
      "  international (0.031)\n",
      "  security (0.020)\n",
      "  states (0.014)\n",
      "  peace (0.013)\n",
      "\n",
      "Topic 09\n",
      "  general (0.088)\n",
      "  assembly (0.075)\n",
      "  president (0.050)\n",
      "  session (0.045)\n",
      "  secretary (0.030)\n",
      "  like (0.029)\n"
     ]
    }
   ],
   "source": [
    "# display topics \n",
    "display_topics_gensim(lda_gensim_para)"
   ]
  },
  {
   "cell_type": "markdown",
   "id": "591106f7",
   "metadata": {},
   "source": [
    "* A bit of a shame that we have some \"stopword\" like words still\n",
    "    * such as: 'like', 'since' , 'ago', 'last'\n",
    "    * Would have hoped these would appear in > 70% of the docs and be filtered out\n",
    "* Definitely could be some benefit to lemmatisation to take out similar meanings, such as: \n",
    "        * Africa / African\n",
    "    \n",
    "    \n",
    "* Topics in general seem a little more muddled than NMF + too many top-level, general terms which don't have much meaning\n",
    "    * Could also update our custom stopwords list"
   ]
  },
  {
   "cell_type": "code",
   "execution_count": null,
   "id": "46b3a5d2",
   "metadata": {},
   "outputs": [],
   "source": []
  },
  {
   "cell_type": "code",
   "execution_count": null,
   "id": "a7c4c273",
   "metadata": {},
   "outputs": [],
   "source": []
  },
  {
   "cell_type": "code",
   "execution_count": null,
   "id": "be174edc",
   "metadata": {},
   "outputs": [],
   "source": []
  },
  {
   "cell_type": "markdown",
   "id": "501999a2",
   "metadata": {},
   "source": [
    "## Reduce feature space to just (Nouns & Adjectives) - resample Gensim NMF model \n",
    "* Noun == 'NN'\n",
    "* Adjective == 'JJ' \n",
    "* Can utilise nltk's `pos_tag` to check the tags \n",
    "* Also uses NLTK's `word_tokenize` function\n",
    "\n",
    "\n",
    "\n",
    "* This could hopefully also act as a quick fix for filtering out some oddities in the vocabulary etc.\n",
    "* Will also help cut down on training time "
   ]
  },
  {
   "cell_type": "code",
   "execution_count": 61,
   "id": "26d81e6f",
   "metadata": {},
   "outputs": [],
   "source": [
    "## function to pull out nouns/adjectives from a string of text\n",
    "def nouns_adj(text):\n",
    "    '''Given a string of text, tokenize the text and pull out only the nouns and adjectives.'''\n",
    "    is_noun_adj = lambda pos: pos[:2] == 'NN' or pos[:2] == 'JJ'\n",
    "    tokenized = word_tokenize(text)\n",
    "    nouns_adj = [word for (word, pos) in pos_tag(tokenized) if is_noun_adj(pos)] \n",
    "    return ' '.join(nouns_adj)"
   ]
  },
  {
   "cell_type": "code",
   "execution_count": null,
   "id": "920e244e",
   "metadata": {},
   "outputs": [],
   "source": []
  },
  {
   "cell_type": "code",
   "execution_count": 60,
   "id": "d1f67594",
   "metadata": {},
   "outputs": [
    {
     "data": {
      "text/html": [
       "<div>\n",
       "<style scoped>\n",
       "    .dataframe tbody tr th:only-of-type {\n",
       "        vertical-align: middle;\n",
       "    }\n",
       "\n",
       "    .dataframe tbody tr th {\n",
       "        vertical-align: top;\n",
       "    }\n",
       "\n",
       "    .dataframe thead th {\n",
       "        text-align: right;\n",
       "    }\n",
       "</style>\n",
       "<table border=\"1\" class=\"dataframe\">\n",
       "  <thead>\n",
       "    <tr style=\"text-align: right;\">\n",
       "      <th></th>\n",
       "      <th>text</th>\n",
       "      <th>year</th>\n",
       "    </tr>\n",
       "  </thead>\n",
       "  <tbody>\n",
       "    <tr>\n",
       "      <th>0</th>\n",
       "      <td>33: May I first convey to our President the co...</td>\n",
       "      <td>1970</td>\n",
       "    </tr>\n",
       "    <tr>\n",
       "      <th>1</th>\n",
       "      <td>34.\\tIn taking up the work on the agenda of th...</td>\n",
       "      <td>1970</td>\n",
       "    </tr>\n",
       "    <tr>\n",
       "      <th>2</th>\n",
       "      <td>35.\\tThe utilization of the United Nations to ...</td>\n",
       "      <td>1970</td>\n",
       "    </tr>\n",
       "    <tr>\n",
       "      <th>3</th>\n",
       "      <td>36.\\tThe whole of progressive mankind recalls ...</td>\n",
       "      <td>1970</td>\n",
       "    </tr>\n",
       "    <tr>\n",
       "      <th>4</th>\n",
       "      <td>37.\\tAll this has had well known consequences ...</td>\n",
       "      <td>1970</td>\n",
       "    </tr>\n",
       "    <tr>\n",
       "      <th>...</th>\n",
       "      <td>...</td>\n",
       "      <td>...</td>\n",
       "    </tr>\n",
       "    <tr>\n",
       "      <th>282205</th>\n",
       "      <td>For some months now, we have watched heartbrea...</td>\n",
       "      <td>2015</td>\n",
       "    </tr>\n",
       "    <tr>\n",
       "      <th>282206</th>\n",
       "      <td>This tragic situation could have been avoided ...</td>\n",
       "      <td>2015</td>\n",
       "    </tr>\n",
       "    <tr>\n",
       "      <th>282207</th>\n",
       "      <td>My country, Zimbabwe, is committed to a fair, ...</td>\n",
       "      <td>2015</td>\n",
       "    </tr>\n",
       "    <tr>\n",
       "      <th>282208</th>\n",
       "      <td>We invite other countries with which we may ha...</td>\n",
       "      <td>2015</td>\n",
       "    </tr>\n",
       "    <tr>\n",
       "      <th>282209</th>\n",
       "      <td>The seventieth anniversary of our Organization...</td>\n",
       "      <td>2015</td>\n",
       "    </tr>\n",
       "  </tbody>\n",
       "</table>\n",
       "<p>282210 rows × 2 columns</p>\n",
       "</div>"
      ],
      "text/plain": [
       "                                                     text  year\n",
       "0       33: May I first convey to our President the co...  1970\n",
       "1       34.\\tIn taking up the work on the agenda of th...  1970\n",
       "2       35.\\tThe utilization of the United Nations to ...  1970\n",
       "3       36.\\tThe whole of progressive mankind recalls ...  1970\n",
       "4       37.\\tAll this has had well known consequences ...  1970\n",
       "...                                                   ...   ...\n",
       "282205  For some months now, we have watched heartbrea...  2015\n",
       "282206  This tragic situation could have been avoided ...  2015\n",
       "282207  My country, Zimbabwe, is committed to a fair, ...  2015\n",
       "282208  We invite other countries with which we may ha...  2015\n",
       "282209  The seventieth anniversary of our Organization...  2015\n",
       "\n",
       "[282210 rows x 2 columns]"
      ]
     },
     "execution_count": 60,
     "metadata": {},
     "output_type": "execute_result"
    }
   ],
   "source": [
    "paragraph_df"
   ]
  },
  {
   "cell_type": "code",
   "execution_count": 59,
   "id": "d1fa3b1e",
   "metadata": {},
   "outputs": [
    {
     "data": {
      "text/plain": [
       "'33: May I first convey to our President the congratulations of the Albanian delegation on his election to the Presidency of the twenty-fifth session of the General Assembly'"
      ]
     },
     "execution_count": 59,
     "metadata": {},
     "output_type": "execute_result"
    }
   ],
   "source": [
    "#E.G. original text \n",
    "paragraph_df.iloc[0]['text']"
   ]
  },
  {
   "cell_type": "code",
   "execution_count": 62,
   "id": "9e90e3f3",
   "metadata": {},
   "outputs": [],
   "source": [
    "# warning: takes some time (inefficient due to .join)\n",
    "## perhaps worthwhile to find a more optimised way to do this \n",
    "paragraph_df_nouns_adj = pd.DataFrame(paragraph_df.text.apply(nouns_adj))"
   ]
  },
  {
   "cell_type": "code",
   "execution_count": 63,
   "id": "ad96b291",
   "metadata": {},
   "outputs": [
    {
     "data": {
      "text/plain": [
       "'May President congratulations Albanian delegation election Presidency twenty-fifth session General Assembly'"
      ]
     },
     "execution_count": 63,
     "metadata": {},
     "output_type": "execute_result"
    }
   ],
   "source": [
    "# E.G. just nouns & adjectives \n",
    "paragraph_df_nouns_adj.iloc[0]['text']"
   ]
  },
  {
   "cell_type": "code",
   "execution_count": 64,
   "id": "47a6ed7d",
   "metadata": {},
   "outputs": [],
   "source": [
    "# pickle DF for subsequent use if needed \n",
    "paragraph_df_nouns_adj.to_pickle('paragraph_df_nouns_adj.pkl')"
   ]
  },
  {
   "cell_type": "code",
   "execution_count": 66,
   "id": "99ef7884",
   "metadata": {},
   "outputs": [
    {
     "data": {
      "text/html": [
       "<div>\n",
       "<style scoped>\n",
       "    .dataframe tbody tr th:only-of-type {\n",
       "        vertical-align: middle;\n",
       "    }\n",
       "\n",
       "    .dataframe tbody tr th {\n",
       "        vertical-align: top;\n",
       "    }\n",
       "\n",
       "    .dataframe thead th {\n",
       "        text-align: right;\n",
       "    }\n",
       "</style>\n",
       "<table border=\"1\" class=\"dataframe\">\n",
       "  <thead>\n",
       "    <tr style=\"text-align: right;\">\n",
       "      <th></th>\n",
       "      <th>text</th>\n",
       "    </tr>\n",
       "  </thead>\n",
       "  <tbody>\n",
       "    <tr>\n",
       "      <th>0</th>\n",
       "      <td>May President congratulations Albanian delegat...</td>\n",
       "    </tr>\n",
       "    <tr>\n",
       "      <th>1</th>\n",
       "      <td>work agenda twenty- fifth session General Asse...</td>\n",
       "    </tr>\n",
       "    <tr>\n",
       "      <th>2</th>\n",
       "      <td>utilization United Nations policy Organization...</td>\n",
       "    </tr>\n",
       "  </tbody>\n",
       "</table>\n",
       "</div>"
      ],
      "text/plain": [
       "                                                text\n",
       "0  May President congratulations Albanian delegat...\n",
       "1  work agenda twenty- fifth session General Asse...\n",
       "2  utilization United Nations policy Organization..."
      ]
     },
     "execution_count": 66,
     "metadata": {},
     "output_type": "execute_result"
    }
   ],
   "source": [
    "#E.G. \n",
    "paragraph_df_nouns_adj.head(3)"
   ]
  },
  {
   "cell_type": "code",
   "execution_count": null,
   "id": "4625513f",
   "metadata": {},
   "outputs": [],
   "source": []
  },
  {
   "cell_type": "code",
   "execution_count": 118,
   "id": "439e8e11",
   "metadata": {},
   "outputs": [],
   "source": [
    "# also make some further adjustments to our stopwords based off LDA results etc.\n",
    "additional_stopwords = {'like ','since','ago','us','year', 'secretary', 'session', 'one', 'today', 'conference',\n",
    "                       'assembly', 'congratulations', 'President', 'mr', 'nations', 'united', 'general', 'mrs'}\n",
    "\n",
    "# user set operators to add or remove these elements from our base collection\n",
    "stopwords |= additional_stopwords"
   ]
  },
  {
   "cell_type": "code",
   "execution_count": 119,
   "id": "2bddfd01",
   "metadata": {},
   "outputs": [
    {
     "name": "stdout",
     "output_type": "stream",
     "text": [
      "Wall time: 7.37 s\n"
     ]
    }
   ],
   "source": [
    "%%time\n",
    "\n",
    "# formulate new gensim paragraphs variable \n",
    "gensim_paragraphs_nounds_adj = [[w for w in re.findall(r'\\b\\w\\w+\\b' , paragraph.lower()) if w not in stopwords] \n",
    "                           for paragraph in paragraph_df_nouns_adj[\"text\"]]"
   ]
  },
  {
   "cell_type": "code",
   "execution_count": null,
   "id": "ac26feeb",
   "metadata": {},
   "outputs": [],
   "source": []
  },
  {
   "cell_type": "markdown",
   "id": "3c49f910",
   "metadata": {},
   "source": [
    "* For brevity, the same steps are repeated as in the first NMF set-up, refer to that code for comments"
   ]
  },
  {
   "cell_type": "code",
   "execution_count": 120,
   "id": "c069a1e3",
   "metadata": {},
   "outputs": [],
   "source": [
    "dict_gensim_para = Dictionary(gensim_paragraphs_nounds_adj)"
   ]
  },
  {
   "cell_type": "code",
   "execution_count": 121,
   "id": "70424da2",
   "metadata": {},
   "outputs": [],
   "source": [
    "dict_gensim_para.filter_extremes(no_below=6, no_above=0.7)"
   ]
  },
  {
   "cell_type": "code",
   "execution_count": 122,
   "id": "101ee0af",
   "metadata": {},
   "outputs": [],
   "source": [
    "bow_gensim_para = [dict_gensim_para.doc2bow(paragraph) for paragraph in gensim_paragraphs_nounds_adj]"
   ]
  },
  {
   "cell_type": "code",
   "execution_count": 123,
   "id": "8c3dc1bd",
   "metadata": {},
   "outputs": [],
   "source": [
    "## apply tfidf model from gensim on nouns-adj only DF paragraph data ## \n",
    "\n",
    "# fit the BOW model \n",
    "tfidf_gensim_para = TfidfModel(bow_gensim_para)\n",
    "\n",
    "# transform the weights to tfidf weights \n",
    "vectors_gensim_para = tfidf_gensim_para[bow_gensim_para]"
   ]
  },
  {
   "cell_type": "code",
   "execution_count": 124,
   "id": "408213fd",
   "metadata": {},
   "outputs": [
    {
     "name": "stdout",
     "output_type": "stream",
     "text": [
      "Wall time: 49.9 s\n"
     ]
    }
   ],
   "source": [
    "%%time\n",
    "\n",
    "# run nmf model again on new nouns-adj only DF, same number of topics and step-val (kappa)\n",
    "nmf_gensim_para = Nmf(vectors_gensim_para, num_topics=10,\n",
    "                      id2word=dict_gensim_para, kappa=0.1, eval_every=5)"
   ]
  },
  {
   "cell_type": "code",
   "execution_count": 125,
   "id": "c120ac15",
   "metadata": {},
   "outputs": [
    {
     "name": "stdout",
     "output_type": "stream",
     "text": [
      "\n",
      "Topic 00\n",
      "  africa (0.041)\n",
      "  south (0.036)\n",
      "  namibia (0.021)\n",
      "  african (0.019)\n",
      "  struggle (0.016)\n",
      "  apartheid (0.016)\n",
      "\n",
      "Topic 01\n",
      "  republic (0.041)\n",
      "  people (0.028)\n",
      "  china (0.021)\n",
      "  charter (0.020)\n",
      "  principles (0.019)\n",
      "  government (0.016)\n",
      "\n",
      "Topic 02\n",
      "  peace (0.024)\n",
      "  international (0.017)\n",
      "  security (0.015)\n",
      "  organization (0.011)\n",
      "  community (0.008)\n",
      "  role (0.008)\n",
      "\n",
      "Topic 03\n",
      "  states (0.021)\n",
      "  soviet (0.011)\n",
      "  resolution (0.011)\n",
      "  europe (0.011)\n",
      "  agreement (0.011)\n",
      "  relations (0.011)\n",
      "\n",
      "Topic 04\n",
      "  nuclear (0.028)\n",
      "  disarmament (0.021)\n",
      "  development (0.020)\n",
      "  weapons (0.018)\n",
      "  arms (0.013)\n",
      "  countries (0.010)\n",
      "\n",
      "Topic 05\n",
      "  human (0.023)\n",
      "  rights (0.020)\n",
      "  problems (0.020)\n",
      "  new (0.014)\n",
      "  organization (0.009)\n",
      "  great (0.008)\n",
      "\n",
      "Topic 06\n",
      "  economic (0.036)\n",
      "  co (0.033)\n",
      "  operation (0.031)\n",
      "  international (0.019)\n",
      "  order (0.016)\n",
      "  social (0.012)\n",
      "\n",
      "Topic 07\n",
      "  countries (0.024)\n",
      "  world (0.017)\n",
      "  situation (0.008)\n",
      "  peoples (0.008)\n",
      "  non (0.007)\n",
      "  crisis (0.006)\n",
      "\n",
      "Topic 08\n",
      "  east (0.031)\n",
      "  middle (0.028)\n",
      "  israel (0.024)\n",
      "  arab (0.023)\n",
      "  palestinian (0.022)\n",
      "  people (0.020)\n",
      "\n",
      "Topic 09\n",
      "  president (0.025)\n",
      "  delegation (0.023)\n",
      "  election (0.019)\n",
      "  behalf (0.011)\n",
      "  great (0.010)\n",
      "  success (0.010)\n"
     ]
    }
   ],
   "source": [
    "# display topics again & compare\n",
    "display_topics_gensim(nmf_gensim_para)"
   ]
  },
  {
   "cell_type": "markdown",
   "id": "04e5ea27",
   "metadata": {},
   "source": [
    "* Not bad, seems to have given a clearer picture about some topics\n",
    "    * E.G. topic 4 is nuclear disarmment & weapons\n",
    "    * Topic 8 covers middle-east and the israel/palestine conflict \n",
    "    * Topic 5 is human rights & problems etc.\n",
    "    * Topic 3 is interesting, about EU and relations + possibly with ex-soviet nations\n",
    "    * Topic 1 has some elements about China\n",
    "    * problems in SA and the middle-east re-appear\n",
    "\n",
    "    \n",
    "* Still run into some problems without lemmaisation with double entiries in words like \"rights\" and \"right\" \n",
    "* Also some compound words like \"co-operation\" have been split into 2 tokens "
   ]
  },
  {
   "cell_type": "code",
   "execution_count": null,
   "id": "67db0dbb",
   "metadata": {},
   "outputs": [],
   "source": []
  },
  {
   "cell_type": "code",
   "execution_count": null,
   "id": "f2e280ac",
   "metadata": {},
   "outputs": [],
   "source": []
  },
  {
   "cell_type": "markdown",
   "id": "5938a100",
   "metadata": {},
   "source": [
    "# Remaining issue: are we choosing the right amount of topics? \n",
    "\n",
    "\n",
    "## Coherence Scores\n",
    "* Gensim has a `CoherenceModel` class that can handle the 4 steps for calculating topic coherence\n",
    "    * Segmentation\n",
    "    * Probability estimation\n",
    "    * confirmation measure calculation\n",
    "    * Aggregation \n"
   ]
  },
  {
   "cell_type": "code",
   "execution_count": 82,
   "id": "fafabf45",
   "metadata": {},
   "outputs": [],
   "source": [
    "# make a new import from gensim \n",
    "from gensim.models.coherencemodel import CoherenceModel"
   ]
  },
  {
   "cell_type": "markdown",
   "id": "b00e0512",
   "metadata": {},
   "source": [
    "* note: nouns/adj and base model share same variable names so need to run in order to get separate results\n",
    "    * Else, add a suffix to one or both of the models to differeniate if that suitsyour needs "
   ]
  },
  {
   "cell_type": "code",
   "execution_count": 96,
   "id": "908dd940",
   "metadata": {},
   "outputs": [
    {
     "name": "stdout",
     "output_type": "stream",
     "text": [
      "Base NMF Model Sxore: 0.6151409009359116.\n"
     ]
    }
   ],
   "source": [
    "# compare 1st & 2nd NMF models\n",
    "## base NMF\n",
    "nmf_gensim_para_coherence = CoherenceModel(model=nmf_gensim_para,\n",
    "    texts=gensim_paragraphs, dictionary=dict_gensim_para, coherence='c_v')\n",
    "\n",
    "nmf_gensim_para_coherence_score = nmf_gensim_para_coherence.get_coherence()\n",
    "\n",
    "print(\"Base NMF Model Sxore: {}.\".format(nmf_gensim_para_coherence_score))"
   ]
  },
  {
   "cell_type": "code",
   "execution_count": 100,
   "id": "98812790",
   "metadata": {},
   "outputs": [
    {
     "name": "stdout",
     "output_type": "stream",
     "text": [
      "LDA Model Sxore: 0.576532582810055.\n"
     ]
    }
   ],
   "source": [
    "## LDA \n",
    "lda_gensim_para_coherence = CoherenceModel(model=lda_gensim_para,\n",
    "    texts=gensim_paragraphs, dictionary=dict_gensim_para, coherence='c_v')\n",
    "lda_gensim_para_coherence_score = lda_gensim_para_coherence.get_coherence()\n",
    "\n",
    "print(\"LDA Model Sxore: {}.\".format(lda_gensim_para_coherence_score))"
   ]
  },
  {
   "cell_type": "code",
   "execution_count": 127,
   "id": "1b225eef",
   "metadata": {},
   "outputs": [
    {
     "name": "stdout",
     "output_type": "stream",
     "text": [
      "Nouns-Adjectives NMF Model Sxore: 0.6072921717892769.\n"
     ]
    }
   ],
   "source": [
    "## -------------------------------------------------## \n",
    "## nouns and adjectives only NMF\n",
    "nmf_gensim_para_coherence = CoherenceModel(model=nmf_gensim_para,\n",
    "    texts=gensim_paragraphs, dictionary=dict_gensim_para, coherence='c_v')\n",
    "\n",
    "nmf_gensim_para_coherence_score = nmf_gensim_para_coherence.get_coherence()\n",
    "\n",
    "print(\"Nouns-Adjectives NMF Model Sxore: {}.\".format(nmf_gensim_para_coherence_score))"
   ]
  },
  {
   "cell_type": "markdown",
   "id": "7221c889",
   "metadata": {},
   "source": [
    "* The higher the score, the better the approximation to the real topics \n",
    "* The nouns-adjectives model & the base NMF model perform roughly the same\n",
    "* The LDA model didn't perform well, and took substantially longer to train (15m vs 1-2m) \n",
    "    * Although, more work could be done to tune the model \n",
    "    * This might be part of future work"
   ]
  },
  {
   "cell_type": "code",
   "execution_count": null,
   "id": "efb46d74",
   "metadata": {},
   "outputs": [],
   "source": []
  },
  {
   "cell_type": "markdown",
   "id": "68935f24",
   "metadata": {},
   "source": [
    "* Can also get the coherence score of individual topics "
   ]
  },
  {
   "cell_type": "code",
   "execution_count": 128,
   "id": "5bf4f7b0",
   "metadata": {},
   "outputs": [],
   "source": [
    "# for nouns-adjectives NMF\n",
    "top_topics = nmf_gensim_para.top_topics(vectors_gensim_para, topn=6)"
   ]
  },
  {
   "cell_type": "code",
   "execution_count": 131,
   "id": "97c66bbd",
   "metadata": {},
   "outputs": [
    {
     "data": {
      "text/plain": [
       "[([(0.031236769487900887, 'east'),\n",
       "   (0.027984945582062062, 'middle'),\n",
       "   (0.023893053877144438, 'israel'),\n",
       "   (0.02251456746956367, 'arab'),\n",
       "   (0.0223693948242925, 'palestinian'),\n",
       "   (0.019910868623098727, 'people')],\n",
       "  -1.155490612081729)]"
      ]
     },
     "execution_count": 131,
     "metadata": {},
     "output_type": "execute_result"
    }
   ],
   "source": [
    "#E.g.\n",
    "top_topics[:1]"
   ]
  },
  {
   "cell_type": "code",
   "execution_count": 139,
   "id": "25b4104c",
   "metadata": {},
   "outputs": [
    {
     "name": "stdout",
     "output_type": "stream",
     "text": [
      "Average Topic Coherence: -1.9957769661031066\n"
     ]
    }
   ],
   "source": [
    "avg_topic_coherence = sum([t[1] for t in top_topics]) / len(top_topics)\n",
    "\n",
    "print(\"Average Topic Coherence: {}\".format(avg_topic_coherence))"
   ]
  },
  {
   "cell_type": "code",
   "execution_count": 140,
   "id": "d1a9fbbb",
   "metadata": {},
   "outputs": [
    {
     "data": {
      "text/plain": [
       "[(-1.155490612081729, 'east middle israel arab palestinian people'),\n",
       " (-1.6363945447465116,\n",
       "  'nuclear disarmament development weapons arms countries'),\n",
       " (-1.7113783915357736, 'economic co operation international order social'),\n",
       " (-1.8158564389964154, 'africa south namibia african struggle apartheid'),\n",
       " (-1.9113228964241165,\n",
       "  'peace international security organization community role'),\n",
       " (-2.025151221821317, 'president delegation election behalf great success'),\n",
       " (-2.20819448068473, 'human rights problems new organization great'),\n",
       " (-2.2588490321510837, 'republic people china charter principles government'),\n",
       " (-2.58342252164619, 'countries world situation peoples non crisis'),\n",
       " (-2.6517095209431996, 'states soviet resolution europe agreement relations')]"
      ]
     },
     "execution_count": 140,
     "metadata": {},
     "output_type": "execute_result"
    }
   ],
   "source": [
    "# can inspect for each topic individually\n",
    "## higher scores are better (E.G. east, middle, israel palestinian) is the most \"coherent\"\n",
    "[(t[1], \" \".join([w[1] for w in t[0]])) for t in top_topics] #sub-slice the top_topics list "
   ]
  },
  {
   "cell_type": "code",
   "execution_count": null,
   "id": "09c5f788",
   "metadata": {},
   "outputs": [],
   "source": []
  },
  {
   "cell_type": "code",
   "execution_count": null,
   "id": "78dc0daf",
   "metadata": {},
   "outputs": [],
   "source": []
  },
  {
   "cell_type": "markdown",
   "id": "c02d0b0a",
   "metadata": {},
   "source": [
    "## Optimise Number of (Nouns/Adjectives) NMF Topics \n",
    "* Loop through different `num_topics` quantities and view coherence scores by number\n",
    "* each iteration takes around 1-1.5m"
   ]
  },
  {
   "cell_type": "code",
   "execution_count": 153,
   "id": "f530274f",
   "metadata": {},
   "outputs": [],
   "source": [
    "from tqdm.auto import tqdm"
   ]
  },
  {
   "cell_type": "code",
   "execution_count": 154,
   "id": "0c8ae78e",
   "metadata": {},
   "outputs": [
    {
     "data": {
      "application/vnd.jupyter.widget-view+json": {
       "model_id": "22a8522b36f7480995fbec2821edb926",
       "version_major": 2,
       "version_minor": 0
      },
      "text/plain": [
       "  0%|          | 0/6 [00:00<?, ?it/s]"
      ]
     },
     "metadata": {},
     "output_type": "display_data"
    }
   ],
   "source": [
    "# initialise list \n",
    "nmf_para_models_n = []\n",
    "\n",
    "# aka check (6,8,10,12,14, 16)\n",
    "for n in tqdm(range(6, 18, 2)):\n",
    "    \n",
    "    # initialise NMF model \n",
    "    nmf_gensim_para = Nmf(vectors_gensim_para, num_topics=n,\n",
    "                      id2word=dict_gensim_para, kappa=0.1, eval_every=5)\n",
    "    \n",
    "    # initialise coherence model \n",
    "    nmf_gensim_para_coherence = CoherenceModel(model=nmf_gensim_para,\n",
    "    texts=gensim_paragraphs, dictionary=dict_gensim_para, coherence='c_v')\n",
    "    \n",
    "    # append to list\n",
    "    nmf_para_models_n.append(nmf_gensim_para_coherence.get_coherence())\n"
   ]
  },
  {
   "cell_type": "code",
   "execution_count": null,
   "id": "ea7659b3",
   "metadata": {},
   "outputs": [],
   "source": []
  },
  {
   "cell_type": "code",
   "execution_count": 156,
   "id": "9aad47ae",
   "metadata": {},
   "outputs": [],
   "source": [
    "# define labels\n",
    "topics = [6, 8, 10, 12, 14, 16]\n",
    "\n",
    "# zip lists\n",
    "zipped_coherence_topics = list(zip(topics, nmf_para_models_n))\n",
    "\n",
    "# convert to df \n",
    "coherence_scores_df = pd.DataFrame(zipped_coherence_topics, columns=['number_topics', 'coherence'])"
   ]
  },
  {
   "cell_type": "code",
   "execution_count": 161,
   "id": "8bc263e6",
   "metadata": {},
   "outputs": [
    {
     "data": {
      "image/png": "[encoded data removed]",
      "text/plain": [
       "<Figure size 720x432 with 1 Axes>"
      ]
     },
     "metadata": {
      "needs_background": "light"
     },
     "output_type": "display_data"
    }
   ],
   "source": [
    "# plot coherence by # topics \n",
    "coherence_scores_df.set_index('number_topics')[['coherence']].plot(figsize=(10,6));"
   ]
  },
  {
   "cell_type": "markdown",
   "id": "97cc7872",
   "metadata": {},
   "source": [
    "* There is pretty strong rationale to support increasing the number of topics\n",
    "* Although, all things considered, 10 performs quite well by chance compared to 6-12 values"
   ]
  },
  {
   "cell_type": "code",
   "execution_count": null,
   "id": "b74ab8ec",
   "metadata": {},
   "outputs": [],
   "source": []
  },
  {
   "cell_type": "code",
   "execution_count": null,
   "id": "18fbde95",
   "metadata": {},
   "outputs": [],
   "source": []
  },
  {
   "cell_type": "markdown",
   "id": "cf75ef67",
   "metadata": {},
   "source": [
    "## Hierarchical Dirichlet Process\n",
    "* A process to define a few broad topics + go into more detail about subtopics below them\n",
    "    * Could for handling the varying topic sizes and topic overlap\n",
    "* Generally, could be a \"starting point\" to see if a topic is really big and might warrant its own subset\n",
    "\n",
    "\n",
    "* **NOTE: This is an experimental implementation from Gensim + HDP is fairly new**\n",
    "    * The below illustration is more for curiosity at this point "
   ]
  },
  {
   "cell_type": "code",
   "execution_count": 162,
   "id": "53931960",
   "metadata": {},
   "outputs": [],
   "source": [
    "from gensim.models import HdpModel"
   ]
  },
  {
   "cell_type": "code",
   "execution_count": 163,
   "id": "571f1426",
   "metadata": {},
   "outputs": [],
   "source": [
    "# use the bag-of-words vectorisation instance generated at the beginning of the notebook \n",
    "hdp_gensim_para = HdpModel(corpus=bow_gensim_para, id2word=dict_gensim_para)"
   ]
  },
  {
   "cell_type": "code",
   "execution_count": null,
   "id": "229a106f",
   "metadata": {},
   "outputs": [],
   "source": []
  },
  {
   "cell_type": "code",
   "execution_count": 171,
   "id": "b1ef84ba",
   "metadata": {},
   "outputs": [],
   "source": [
    "# in-built print function - fairly ugly & hard to read\n",
    "# hdp_gensim_para.print_topics(num_words=10)"
   ]
  },
  {
   "cell_type": "code",
   "execution_count": 165,
   "id": "28593842",
   "metadata": {},
   "outputs": [
    {
     "data": {
      "text/html": [
       "<div>\n",
       "<style scoped>\n",
       "    .dataframe tbody tr th:only-of-type {\n",
       "        vertical-align: middle;\n",
       "    }\n",
       "\n",
       "    .dataframe tbody tr th {\n",
       "        vertical-align: top;\n",
       "    }\n",
       "\n",
       "    .dataframe thead th {\n",
       "        text-align: right;\n",
       "    }\n",
       "</style>\n",
       "<table border=\"1\" class=\"dataframe\">\n",
       "  <thead>\n",
       "    <tr style=\"text-align: right;\">\n",
       "      <th></th>\n",
       "      <th>0</th>\n",
       "      <th>1</th>\n",
       "      <th>2</th>\n",
       "      <th>3</th>\n",
       "      <th>4</th>\n",
       "      <th>5</th>\n",
       "      <th>6</th>\n",
       "      <th>7</th>\n",
       "      <th>8</th>\n",
       "      <th>9</th>\n",
       "      <th>10</th>\n",
       "      <th>11</th>\n",
       "      <th>12</th>\n",
       "      <th>13</th>\n",
       "      <th>14</th>\n",
       "      <th>15</th>\n",
       "    </tr>\n",
       "  </thead>\n",
       "  <tbody>\n",
       "    <tr>\n",
       "      <th>0</th>\n",
       "      <td>0.021</td>\n",
       "      <td>countries</td>\n",
       "      <td>0.018</td>\n",
       "      <td>international</td>\n",
       "      <td>0.017</td>\n",
       "      <td>world</td>\n",
       "      <td>0.015</td>\n",
       "      <td>development</td>\n",
       "      <td>0.015</td>\n",
       "      <td>economic</td>\n",
       "      <td>0.007</td>\n",
       "      <td>new</td>\n",
       "      <td>0.006</td>\n",
       "      <td>states</td>\n",
       "      <td>0.006</td>\n",
       "      <td>peace</td>\n",
       "    </tr>\n",
       "    <tr>\n",
       "      <th>1</th>\n",
       "      <td>0.014</td>\n",
       "      <td>peace</td>\n",
       "      <td>0.013</td>\n",
       "      <td>international</td>\n",
       "      <td>0.011</td>\n",
       "      <td>states</td>\n",
       "      <td>0.010</td>\n",
       "      <td>security</td>\n",
       "      <td>0.010</td>\n",
       "      <td>nuclear</td>\n",
       "      <td>0.009</td>\n",
       "      <td>world</td>\n",
       "      <td>0.009</td>\n",
       "      <td>people</td>\n",
       "      <td>0.008</td>\n",
       "      <td>countries</td>\n",
       "    </tr>\n",
       "    <tr>\n",
       "      <th>2</th>\n",
       "      <td>0.013</td>\n",
       "      <td>international</td>\n",
       "      <td>0.012</td>\n",
       "      <td>world</td>\n",
       "      <td>0.011</td>\n",
       "      <td>peace</td>\n",
       "      <td>0.010</td>\n",
       "      <td>people</td>\n",
       "      <td>0.008</td>\n",
       "      <td>countries</td>\n",
       "      <td>0.007</td>\n",
       "      <td>states</td>\n",
       "      <td>0.007</td>\n",
       "      <td>country</td>\n",
       "      <td>0.007</td>\n",
       "      <td>human</td>\n",
       "    </tr>\n",
       "    <tr>\n",
       "      <th>3</th>\n",
       "      <td>0.015</td>\n",
       "      <td>africa</td>\n",
       "      <td>0.015</td>\n",
       "      <td>people</td>\n",
       "      <td>0.013</td>\n",
       "      <td>south</td>\n",
       "      <td>0.011</td>\n",
       "      <td>international</td>\n",
       "      <td>0.008</td>\n",
       "      <td>world</td>\n",
       "      <td>0.008</td>\n",
       "      <td>countries</td>\n",
       "      <td>0.008</td>\n",
       "      <td>african</td>\n",
       "      <td>0.007</td>\n",
       "      <td>peace</td>\n",
       "    </tr>\n",
       "    <tr>\n",
       "      <th>4</th>\n",
       "      <td>0.017</td>\n",
       "      <td>international</td>\n",
       "      <td>0.010</td>\n",
       "      <td>world</td>\n",
       "      <td>0.010</td>\n",
       "      <td>countries</td>\n",
       "      <td>0.009</td>\n",
       "      <td>peace</td>\n",
       "      <td>0.009</td>\n",
       "      <td>states</td>\n",
       "      <td>0.008</td>\n",
       "      <td>security</td>\n",
       "      <td>0.006</td>\n",
       "      <td>economic</td>\n",
       "      <td>0.006</td>\n",
       "      <td>development</td>\n",
       "    </tr>\n",
       "    <tr>\n",
       "      <th>5</th>\n",
       "      <td>0.014</td>\n",
       "      <td>international</td>\n",
       "      <td>0.012</td>\n",
       "      <td>countries</td>\n",
       "      <td>0.011</td>\n",
       "      <td>world</td>\n",
       "      <td>0.009</td>\n",
       "      <td>peace</td>\n",
       "      <td>0.008</td>\n",
       "      <td>economic</td>\n",
       "      <td>0.007</td>\n",
       "      <td>states</td>\n",
       "      <td>0.007</td>\n",
       "      <td>people</td>\n",
       "      <td>0.007</td>\n",
       "      <td>development</td>\n",
       "    </tr>\n",
       "    <tr>\n",
       "      <th>6</th>\n",
       "      <td>0.014</td>\n",
       "      <td>international</td>\n",
       "      <td>0.010</td>\n",
       "      <td>world</td>\n",
       "      <td>0.010</td>\n",
       "      <td>countries</td>\n",
       "      <td>0.009</td>\n",
       "      <td>peace</td>\n",
       "      <td>0.008</td>\n",
       "      <td>people</td>\n",
       "      <td>0.007</td>\n",
       "      <td>security</td>\n",
       "      <td>0.007</td>\n",
       "      <td>states</td>\n",
       "      <td>0.006</td>\n",
       "      <td>economic</td>\n",
       "    </tr>\n",
       "    <tr>\n",
       "      <th>7</th>\n",
       "      <td>0.014</td>\n",
       "      <td>international</td>\n",
       "      <td>0.013</td>\n",
       "      <td>countries</td>\n",
       "      <td>0.011</td>\n",
       "      <td>world</td>\n",
       "      <td>0.008</td>\n",
       "      <td>economic</td>\n",
       "      <td>0.008</td>\n",
       "      <td>development</td>\n",
       "      <td>0.008</td>\n",
       "      <td>peace</td>\n",
       "      <td>0.007</td>\n",
       "      <td>states</td>\n",
       "      <td>0.006</td>\n",
       "      <td>people</td>\n",
       "    </tr>\n",
       "    <tr>\n",
       "      <th>8</th>\n",
       "      <td>0.014</td>\n",
       "      <td>international</td>\n",
       "      <td>0.010</td>\n",
       "      <td>world</td>\n",
       "      <td>0.010</td>\n",
       "      <td>countries</td>\n",
       "      <td>0.009</td>\n",
       "      <td>peace</td>\n",
       "      <td>0.007</td>\n",
       "      <td>states</td>\n",
       "      <td>0.007</td>\n",
       "      <td>economic</td>\n",
       "      <td>0.007</td>\n",
       "      <td>development</td>\n",
       "      <td>0.007</td>\n",
       "      <td>people</td>\n",
       "    </tr>\n",
       "    <tr>\n",
       "      <th>9</th>\n",
       "      <td>0.013</td>\n",
       "      <td>international</td>\n",
       "      <td>0.010</td>\n",
       "      <td>world</td>\n",
       "      <td>0.010</td>\n",
       "      <td>countries</td>\n",
       "      <td>0.009</td>\n",
       "      <td>peace</td>\n",
       "      <td>0.007</td>\n",
       "      <td>people</td>\n",
       "      <td>0.007</td>\n",
       "      <td>development</td>\n",
       "      <td>0.007</td>\n",
       "      <td>states</td>\n",
       "      <td>0.007</td>\n",
       "      <td>economic</td>\n",
       "    </tr>\n",
       "    <tr>\n",
       "      <th>10</th>\n",
       "      <td>0.014</td>\n",
       "      <td>international</td>\n",
       "      <td>0.009</td>\n",
       "      <td>peace</td>\n",
       "      <td>0.009</td>\n",
       "      <td>world</td>\n",
       "      <td>0.008</td>\n",
       "      <td>countries</td>\n",
       "      <td>0.007</td>\n",
       "      <td>security</td>\n",
       "      <td>0.006</td>\n",
       "      <td>people</td>\n",
       "      <td>0.006</td>\n",
       "      <td>development</td>\n",
       "      <td>0.006</td>\n",
       "      <td>states</td>\n",
       "    </tr>\n",
       "    <tr>\n",
       "      <th>11</th>\n",
       "      <td>0.013</td>\n",
       "      <td>international</td>\n",
       "      <td>0.010</td>\n",
       "      <td>world</td>\n",
       "      <td>0.009</td>\n",
       "      <td>countries</td>\n",
       "      <td>0.009</td>\n",
       "      <td>peace</td>\n",
       "      <td>0.007</td>\n",
       "      <td>security</td>\n",
       "      <td>0.007</td>\n",
       "      <td>states</td>\n",
       "      <td>0.007</td>\n",
       "      <td>people</td>\n",
       "      <td>0.006</td>\n",
       "      <td>development</td>\n",
       "    </tr>\n",
       "    <tr>\n",
       "      <th>12</th>\n",
       "      <td>0.013</td>\n",
       "      <td>international</td>\n",
       "      <td>0.010</td>\n",
       "      <td>world</td>\n",
       "      <td>0.009</td>\n",
       "      <td>countries</td>\n",
       "      <td>0.009</td>\n",
       "      <td>peace</td>\n",
       "      <td>0.007</td>\n",
       "      <td>people</td>\n",
       "      <td>0.007</td>\n",
       "      <td>states</td>\n",
       "      <td>0.006</td>\n",
       "      <td>security</td>\n",
       "      <td>0.006</td>\n",
       "      <td>development</td>\n",
       "    </tr>\n",
       "    <tr>\n",
       "      <th>13</th>\n",
       "      <td>0.013</td>\n",
       "      <td>international</td>\n",
       "      <td>0.010</td>\n",
       "      <td>world</td>\n",
       "      <td>0.010</td>\n",
       "      <td>countries</td>\n",
       "      <td>0.009</td>\n",
       "      <td>peace</td>\n",
       "      <td>0.007</td>\n",
       "      <td>development</td>\n",
       "      <td>0.007</td>\n",
       "      <td>people</td>\n",
       "      <td>0.007</td>\n",
       "      <td>states</td>\n",
       "      <td>0.006</td>\n",
       "      <td>security</td>\n",
       "    </tr>\n",
       "    <tr>\n",
       "      <th>14</th>\n",
       "      <td>0.013</td>\n",
       "      <td>international</td>\n",
       "      <td>0.010</td>\n",
       "      <td>world</td>\n",
       "      <td>0.009</td>\n",
       "      <td>countries</td>\n",
       "      <td>0.009</td>\n",
       "      <td>peace</td>\n",
       "      <td>0.007</td>\n",
       "      <td>people</td>\n",
       "      <td>0.007</td>\n",
       "      <td>states</td>\n",
       "      <td>0.007</td>\n",
       "      <td>security</td>\n",
       "      <td>0.006</td>\n",
       "      <td>development</td>\n",
       "    </tr>\n",
       "    <tr>\n",
       "      <th>15</th>\n",
       "      <td>0.013</td>\n",
       "      <td>international</td>\n",
       "      <td>0.010</td>\n",
       "      <td>world</td>\n",
       "      <td>0.009</td>\n",
       "      <td>countries</td>\n",
       "      <td>0.008</td>\n",
       "      <td>peace</td>\n",
       "      <td>0.007</td>\n",
       "      <td>people</td>\n",
       "      <td>0.007</td>\n",
       "      <td>states</td>\n",
       "      <td>0.006</td>\n",
       "      <td>development</td>\n",
       "      <td>0.006</td>\n",
       "      <td>security</td>\n",
       "    </tr>\n",
       "    <tr>\n",
       "      <th>16</th>\n",
       "      <td>0.013</td>\n",
       "      <td>international</td>\n",
       "      <td>0.010</td>\n",
       "      <td>world</td>\n",
       "      <td>0.009</td>\n",
       "      <td>countries</td>\n",
       "      <td>0.008</td>\n",
       "      <td>peace</td>\n",
       "      <td>0.007</td>\n",
       "      <td>development</td>\n",
       "      <td>0.006</td>\n",
       "      <td>states</td>\n",
       "      <td>0.006</td>\n",
       "      <td>security</td>\n",
       "      <td>0.006</td>\n",
       "      <td>people</td>\n",
       "    </tr>\n",
       "    <tr>\n",
       "      <th>17</th>\n",
       "      <td>0.013</td>\n",
       "      <td>international</td>\n",
       "      <td>0.009</td>\n",
       "      <td>world</td>\n",
       "      <td>0.009</td>\n",
       "      <td>countries</td>\n",
       "      <td>0.009</td>\n",
       "      <td>peace</td>\n",
       "      <td>0.007</td>\n",
       "      <td>people</td>\n",
       "      <td>0.007</td>\n",
       "      <td>security</td>\n",
       "      <td>0.006</td>\n",
       "      <td>states</td>\n",
       "      <td>0.006</td>\n",
       "      <td>development</td>\n",
       "    </tr>\n",
       "    <tr>\n",
       "      <th>18</th>\n",
       "      <td>0.013</td>\n",
       "      <td>international</td>\n",
       "      <td>0.010</td>\n",
       "      <td>world</td>\n",
       "      <td>0.009</td>\n",
       "      <td>countries</td>\n",
       "      <td>0.008</td>\n",
       "      <td>peace</td>\n",
       "      <td>0.007</td>\n",
       "      <td>development</td>\n",
       "      <td>0.006</td>\n",
       "      <td>security</td>\n",
       "      <td>0.006</td>\n",
       "      <td>states</td>\n",
       "      <td>0.006</td>\n",
       "      <td>people</td>\n",
       "    </tr>\n",
       "    <tr>\n",
       "      <th>19</th>\n",
       "      <td>0.013</td>\n",
       "      <td>international</td>\n",
       "      <td>0.010</td>\n",
       "      <td>world</td>\n",
       "      <td>0.009</td>\n",
       "      <td>countries</td>\n",
       "      <td>0.008</td>\n",
       "      <td>peace</td>\n",
       "      <td>0.007</td>\n",
       "      <td>development</td>\n",
       "      <td>0.006</td>\n",
       "      <td>states</td>\n",
       "      <td>0.006</td>\n",
       "      <td>security</td>\n",
       "      <td>0.006</td>\n",
       "      <td>people</td>\n",
       "    </tr>\n",
       "  </tbody>\n",
       "</table>\n",
       "</div>"
      ],
      "text/plain": [
       "       0              1      2              3      4          5      6   \\\n",
       "0   0.021      countries  0.018  international  0.017      world  0.015   \n",
       "1   0.014          peace  0.013  international  0.011     states  0.010   \n",
       "2   0.013  international  0.012          world  0.011      peace  0.010   \n",
       "3   0.015         africa  0.015         people  0.013      south  0.011   \n",
       "4   0.017  international  0.010          world  0.010  countries  0.009   \n",
       "5   0.014  international  0.012      countries  0.011      world  0.009   \n",
       "6   0.014  international  0.010          world  0.010  countries  0.009   \n",
       "7   0.014  international  0.013      countries  0.011      world  0.008   \n",
       "8   0.014  international  0.010          world  0.010  countries  0.009   \n",
       "9   0.013  international  0.010          world  0.010  countries  0.009   \n",
       "10  0.014  international  0.009          peace  0.009      world  0.008   \n",
       "11  0.013  international  0.010          world  0.009  countries  0.009   \n",
       "12  0.013  international  0.010          world  0.009  countries  0.009   \n",
       "13  0.013  international  0.010          world  0.010  countries  0.009   \n",
       "14  0.013  international  0.010          world  0.009  countries  0.009   \n",
       "15  0.013  international  0.010          world  0.009  countries  0.008   \n",
       "16  0.013  international  0.010          world  0.009  countries  0.008   \n",
       "17  0.013  international  0.009          world  0.009  countries  0.009   \n",
       "18  0.013  international  0.010          world  0.009  countries  0.008   \n",
       "19  0.013  international  0.010          world  0.009  countries  0.008   \n",
       "\n",
       "               7      8            9      10           11     12           13  \\\n",
       "0     development  0.015     economic  0.007          new  0.006       states   \n",
       "1        security  0.010      nuclear  0.009        world  0.009       people   \n",
       "2          people  0.008    countries  0.007       states  0.007      country   \n",
       "3   international  0.008        world  0.008    countries  0.008      african   \n",
       "4           peace  0.009       states  0.008     security  0.006     economic   \n",
       "5           peace  0.008     economic  0.007       states  0.007       people   \n",
       "6           peace  0.008       people  0.007     security  0.007       states   \n",
       "7        economic  0.008  development  0.008        peace  0.007       states   \n",
       "8           peace  0.007       states  0.007     economic  0.007  development   \n",
       "9           peace  0.007       people  0.007  development  0.007       states   \n",
       "10      countries  0.007     security  0.006       people  0.006  development   \n",
       "11          peace  0.007     security  0.007       states  0.007       people   \n",
       "12          peace  0.007       people  0.007       states  0.006     security   \n",
       "13          peace  0.007  development  0.007       people  0.007       states   \n",
       "14          peace  0.007       people  0.007       states  0.007     security   \n",
       "15          peace  0.007       people  0.007       states  0.006  development   \n",
       "16          peace  0.007  development  0.006       states  0.006     security   \n",
       "17          peace  0.007       people  0.007     security  0.006       states   \n",
       "18          peace  0.007  development  0.006     security  0.006       states   \n",
       "19          peace  0.007  development  0.006       states  0.006     security   \n",
       "\n",
       "       14           15  \n",
       "0   0.006        peace  \n",
       "1   0.008    countries  \n",
       "2   0.007        human  \n",
       "3   0.007        peace  \n",
       "4   0.006  development  \n",
       "5   0.007  development  \n",
       "6   0.006     economic  \n",
       "7   0.006       people  \n",
       "8   0.007       people  \n",
       "9   0.007     economic  \n",
       "10  0.006       states  \n",
       "11  0.006  development  \n",
       "12  0.006  development  \n",
       "13  0.006     security  \n",
       "14  0.006  development  \n",
       "15  0.006     security  \n",
       "16  0.006       people  \n",
       "17  0.006  development  \n",
       "18  0.006       people  \n",
       "19  0.006       people  "
      ]
     },
     "execution_count": 165,
     "metadata": {},
     "output_type": "execute_result"
    }
   ],
   "source": [
    "words = 8\n",
    "pd.DataFrame([re.split(r\" \\+ |\\*\", t[1]) for t in hdp_gensim_para.print_topics(num_topics=20, num_words=words)])"
   ]
  },
  {
   "cell_type": "markdown",
   "id": "811a558b",
   "metadata": {},
   "source": [
    "* Interesting idea that could be explored further in future work\n",
    "    * Would need to custom filter out a few extremeley prevalent corpus-speficic words like \"international\" etc. "
   ]
  },
  {
   "cell_type": "code",
   "execution_count": 172,
   "id": "3ff7a8b5",
   "metadata": {},
   "outputs": [
    {
     "data": {
      "text/plain": [
       "[('peace', 0.014378876403604376),\n",
       " ('international', 0.012610282669647152),\n",
       " ('states', 0.011441286975724508),\n",
       " ('security', 0.010136356208008925),\n",
       " ('nuclear', 0.009795250514887933),\n",
       " ('world', 0.009311782584736012),\n",
       " ('people', 0.009229979987078434),\n",
       " ('countries', 0.007862220485948219),\n",
       " ('east', 0.006370771407652383),\n",
       " ('weapons', 0.0063643871741134875),\n",
       " ('israel', 0.005097472483782026),\n",
       " ('government', 0.005029713177325867),\n",
       " ('middle', 0.004821536920777888),\n",
       " ('council', 0.004685103992582685),\n",
       " ('war', 0.004481879419780385)]"
      ]
     },
     "execution_count": 172,
     "metadata": {},
     "output_type": "execute_result"
    }
   ],
   "source": [
    "# zoom in on 1 topic \n",
    "hdp_gensim_para.show_topic(1, topn=15)"
   ]
  },
  {
   "cell_type": "code",
   "execution_count": null,
   "id": "f78c1861",
   "metadata": {},
   "outputs": [],
   "source": []
  },
  {
   "cell_type": "code",
   "execution_count": null,
   "id": "98153f01",
   "metadata": {},
   "outputs": [],
   "source": []
  },
  {
   "cell_type": "code",
   "execution_count": null,
   "id": "d722f548",
   "metadata": {},
   "outputs": [],
   "source": []
  },
  {
   "cell_type": "code",
   "execution_count": null,
   "id": "9166ab16",
   "metadata": {},
   "outputs": [],
   "source": []
  }
 ],
 "metadata": {
  "kernelspec": {
   "display_name": "Python 3 (ipykernel)",
   "language": "python",
   "name": "python3"
  },
  "language_info": {
   "codemirror_mode": {
    "name": "ipython",
    "version": 3
   },
   "file_extension": ".py",
   "mimetype": "text/x-python",
   "name": "python",
   "nbconvert_exporter": "python",
   "pygments_lexer": "ipython3",
   "version": "3.9.7"
  }
 },
 "nbformat": 4,
 "nbformat_minor": 5
}
