{
 "cells": [
  {
   "cell_type": "code",
   "execution_count": 15,
   "id": "d1359715",
   "metadata": {},
   "outputs": [],
   "source": [
    "import pandas as pd \n",
    "import numpy as np \n",
    "import seaborn as sns\n",
    "import matplotlib.pyplot as plt\n",
    "%matplotlib inline\n",
    "sns.set_theme()\n",
    "import regex as re \n",
    "from collections import Counter\n",
    "import pprint as pp\n",
    "from see import see \n",
    "import nltk\n",
    "from sklearn.feature_extraction.text import TfidfVectorizer\n",
    "from sklearn.decomposition import NMF\n",
    "from tqdm.auto import tqdm"
   ]
  },
  {
   "cell_type": "code",
   "execution_count": 2,
   "id": "804b9b64",
   "metadata": {},
   "outputs": [],
   "source": [
    "# read pickled DF from notebook #1 (initial exploratory data visuals)\n",
    "df = pd.read_pickle('df_un_general_debates.pkl')"
   ]
  },
  {
   "cell_type": "code",
   "execution_count": null,
   "id": "99f29d19",
   "metadata": {},
   "outputs": [],
   "source": []
  },
  {
   "cell_type": "markdown",
   "id": "6a8c470e",
   "metadata": {},
   "source": [
    "## Topic Modeling P1\n",
    "* Using sklearn modeling libraries \n",
    "\n",
    "#### GENERAL ITEMS OUTLINE: \n",
    "* Split text from documents to paragraphs within documents\n",
    "* Tf-idf vectoriser & data preparation\n",
    "* Nonnegative Matrix Factorisation (NMF)\n",
    "* Topic prevalence over time \n",
    "* NMF with bigrams\n"
   ]
  },
  {
   "cell_type": "code",
   "execution_count": null,
   "id": "754617b2",
   "metadata": {},
   "outputs": [],
   "source": []
  },
  {
   "cell_type": "markdown",
   "id": "18d31011",
   "metadata": {},
   "source": [
    "### Introducing the challenges of the UN-speeches data set \n",
    "* Due to the nature of the content, each country is allowed to only deliver a single speech each year\n",
    "    * Thus, it is quite likely that different paragraphs within the speeches are separated by paragraphs\n",
    "    * Accordingly, these paragraphs quite likely have different topics\n",
    "    \n",
    "* Also raises the issue of formatting issues with how do we define beginning, ends etc. of paragraphs "
   ]
  },
  {
   "cell_type": "code",
   "execution_count": 7,
   "id": "79eb3d97",
   "metadata": {},
   "outputs": [
    {
     "data": {
      "text/plain": [
       "'33: May I first convey to our President the congratulations of the Albanian delegation on his election to the Presidency of the twenty-fifth session of the General Assembly?\\n34.\\tIn taking up the work on the agenda of the twenty- fifth session of the General Assembly, which is being held on the eve of the twenty-fifth anniversary of the coming into force of the Charter of the United Nations, the peace-loving Member States would have wished to be in a position to present on this occasion some pict'"
      ]
     },
     "execution_count": 7,
     "metadata": {},
     "output_type": "execute_result"
    }
   ],
   "source": [
    "# let's recall the same example from notebook #2\n",
    "# example 1 \n",
    "df.iloc[0]['text'][0:500]"
   ]
  },
  {
   "cell_type": "code",
   "execution_count": 12,
   "id": "ac23a7a8",
   "metadata": {},
   "outputs": [
    {
     "data": {
      "text/plain": [
       "'\\ufeffOn behalf of the State of Kuwait, it\\ngives me pleasure to congratulate Mr. Han Seung-soo,\\nand his friendly country, the Republic of Korea, on his\\nelection as President of the fifty-sixth session of t'"
      ]
     },
     "execution_count": 12,
     "metadata": {},
     "output_type": "execute_result"
    }
   ],
   "source": [
    "# e.g. #2\n",
    "df.iloc[4729][\"text\"][0:200]"
   ]
  },
  {
   "cell_type": "markdown",
   "id": "4cc9130c",
   "metadata": {},
   "source": [
    "* There are newline characters being used to separate prargraphs in the first example\n",
    "* But in the 2nd example below, newline characters used to separate lines\n",
    "\n",
    "#### Thus, we need another method to discern the paragraphs \n",
    "* E.G. try splitting at stops, exclamation marks, question marks etc. "
   ]
  },
  {
   "cell_type": "code",
   "execution_count": 6,
   "id": "bdbf9a8f",
   "metadata": {},
   "outputs": [],
   "source": [
    "# \\s* = zero or more whitespace chars \n",
    "\n",
    "# define the number of paragraphs of the text, splitting on the punctuation and ignoring the whitespace after them\n",
    "df[\"paragraphs\"] = df[\"text\"].map(lambda text: re.split('[.?!]\\s*\\n', text))"
   ]
  },
  {
   "cell_type": "code",
   "execution_count": 17,
   "id": "b0d6efdf",
   "metadata": {},
   "outputs": [],
   "source": [
    "# define number of paragraphs by country by mapping the len function\n",
    "df[\"number_of_paragraphs\"] = df[\"paragraphs\"].map(len)"
   ]
  },
  {
   "cell_type": "code",
   "execution_count": 19,
   "id": "aa0372bc",
   "metadata": {},
   "outputs": [
    {
     "data": {
      "text/html": [
       "<div>\n",
       "<style scoped>\n",
       "    .dataframe tbody tr th:only-of-type {\n",
       "        vertical-align: middle;\n",
       "    }\n",
       "\n",
       "    .dataframe tbody tr th {\n",
       "        vertical-align: top;\n",
       "    }\n",
       "\n",
       "    .dataframe thead th {\n",
       "        text-align: right;\n",
       "    }\n",
       "</style>\n",
       "<table border=\"1\" class=\"dataframe\">\n",
       "  <thead>\n",
       "    <tr style=\"text-align: right;\">\n",
       "      <th></th>\n",
       "      <th>session</th>\n",
       "      <th>year</th>\n",
       "      <th>country</th>\n",
       "      <th>country_name</th>\n",
       "      <th>speaker</th>\n",
       "      <th>position</th>\n",
       "      <th>text</th>\n",
       "      <th>length</th>\n",
       "      <th>tokens</th>\n",
       "      <th>len_tokens</th>\n",
       "      <th>paragraphs</th>\n",
       "      <th>number_of_paragraphs</th>\n",
       "    </tr>\n",
       "  </thead>\n",
       "  <tbody>\n",
       "    <tr>\n",
       "      <th>0</th>\n",
       "      <td>25</td>\n",
       "      <td>1970</td>\n",
       "      <td>ALB</td>\n",
       "      <td>Albania</td>\n",
       "      <td>Mr. NAS</td>\n",
       "      <td>NaN</td>\n",
       "      <td>33: May I first convey to our President the co...</td>\n",
       "      <td>51419</td>\n",
       "      <td>[may, first, convey, president, congratulation...</td>\n",
       "      <td>4125</td>\n",
       "      <td>[33: May I first convey to our President the c...</td>\n",
       "      <td>60</td>\n",
       "    </tr>\n",
       "    <tr>\n",
       "      <th>1</th>\n",
       "      <td>25</td>\n",
       "      <td>1970</td>\n",
       "      <td>ARG</td>\n",
       "      <td>Argentina</td>\n",
       "      <td>Mr. DE PABLO PARDO</td>\n",
       "      <td>NaN</td>\n",
       "      <td>177.\\t : It is a fortunate coincidence that pr...</td>\n",
       "      <td>29286</td>\n",
       "      <td>[fortunate, coincidence, precisely, time, unit...</td>\n",
       "      <td>2327</td>\n",
       "      <td>[177.\\t : It is a fortunate coincidence that p...</td>\n",
       "      <td>50</td>\n",
       "    </tr>\n",
       "  </tbody>\n",
       "</table>\n",
       "</div>"
      ],
      "text/plain": [
       "   session  year country country_name             speaker position  \\\n",
       "0       25  1970     ALB      Albania             Mr. NAS      NaN   \n",
       "1       25  1970     ARG    Argentina  Mr. DE PABLO PARDO      NaN   \n",
       "\n",
       "                                                text  length  \\\n",
       "0  33: May I first convey to our President the co...   51419   \n",
       "1  177.\\t : It is a fortunate coincidence that pr...   29286   \n",
       "\n",
       "                                              tokens  len_tokens  \\\n",
       "0  [may, first, convey, president, congratulation...        4125   \n",
       "1  [fortunate, coincidence, precisely, time, unit...        2327   \n",
       "\n",
       "                                          paragraphs  number_of_paragraphs  \n",
       "0  [33: May I first convey to our President the c...                    60  \n",
       "1  [177.\\t : It is a fortunate coincidence that p...                    50  "
      ]
     },
     "execution_count": 19,
     "metadata": {},
     "output_type": "execute_result"
    }
   ],
   "source": [
    "# E.G. \n",
    "df.head(2)"
   ]
  },
  {
   "cell_type": "code",
   "execution_count": 28,
   "id": "c5c8e941",
   "metadata": {},
   "outputs": [
    {
     "data": {
      "image/png": "[encoded data removed]",
      "text/plain": [
       "<Figure size 1008x576 with 1 Axes>"
      ]
     },
     "metadata": {},
     "output_type": "display_data"
    }
   ],
   "source": [
    "# for curiosity, does the number of paragraphs change over time?\n",
    "## as we noted before, avg words had decreased as num_countries went up -- so we somewhat expect the same\n",
    "df.groupby('year')['number_of_paragraphs'].mean().plot.bar(figsize=(14,8));"
   ]
  },
  {
   "cell_type": "code",
   "execution_count": null,
   "id": "d94944d8",
   "metadata": {},
   "outputs": [],
   "source": []
  },
  {
   "cell_type": "code",
   "execution_count": null,
   "id": "db6555a3",
   "metadata": {},
   "outputs": [],
   "source": []
  },
  {
   "cell_type": "markdown",
   "id": "f1e68eed",
   "metadata": {},
   "source": [
    "## TOPIC MODELING PREPARATIONS\n",
    "* Start with document-term matrix\n",
    "    * matrix with elements as word frequencies (often tf-idf scaled weights)\n",
    "        * of the words (columns) in the corresponding documents (rows)\n",
    "    * The matrix is sparse, as most docs contain only a fraction of the total vocabulary"
   ]
  },
  {
   "cell_type": "code",
   "execution_count": 3,
   "id": "a90dfbd3",
   "metadata": {},
   "outputs": [],
   "source": [
    "# re-construct stopwords with additional corpus-specific elements (from notebook #2) to pass into tfidf_vectoriser \n",
    "stopwords = set(nltk.corpus.stopwords.words('english'))"
   ]
  },
  {
   "cell_type": "code",
   "execution_count": 4,
   "id": "07d61d6d",
   "metadata": {},
   "outputs": [],
   "source": [
    "# make manual adjustments \n",
    "additional_stopwords = {'dear','regards','also','would','must'}\n",
    "exclude_stopwords = {'against'}\n",
    "\n",
    "# user set operators to add or remove these elements from our base collection\n",
    "stopwords |= additional_stopwords\n",
    "\n",
    "## use the set difference to remove these words \n",
    "stopwords -= exclude_stopwords "
   ]
  },
  {
   "cell_type": "markdown",
   "id": "d6ae12a5",
   "metadata": {},
   "source": [
    "### TF-IDF VECTORISER\n",
    "* `min_df` = when building vocab, ignore terms with a document fequency lower than this threshold (AKA cut-off value)\n",
    "    * this value represents proportion of documents if float between (0.0, 1.0)\n",
    "    * Else, absolute counts if integer \n",
    "* `max_df` = the inverse, ignore terms with highr than this threshold (akin to: corpus specific stop-words)\n",
    "    * same rules apply for float/integer \n",
    "* `smooth_idf` = adding 1 to document term frequencies (same as notebook #2) \n",
    "* `ngram_range` = different n-grams extraction:\n",
    "    * (1, 1) = only unigrams\n",
    "    * (1, 2) = unigrams and bigrams\n",
    "    * (2, 2) = only bigrams etc. \n",
    "    \n",
    "    \n",
    "    \n",
    "#### First iteration: start with just uni-grams"
   ]
  },
  {
   "cell_type": "code",
   "execution_count": 41,
   "id": "8571c6cb",
   "metadata": {},
   "outputs": [],
   "source": [
    "## tf-idf vectoriser for speech's text: ##\n",
    "\n",
    "## start with just unigrams \n",
    "tfidf_text_vectorizer_unigrams = TfidfVectorizer(stop_words=stopwords, min_df=5, max_df=0.7, smooth_idf = True, \n",
    "                                       ngram_range=(1,1))"
   ]
  },
  {
   "cell_type": "code",
   "execution_count": 38,
   "id": "5a32a492",
   "metadata": {},
   "outputs": [
    {
     "data": {
      "text/plain": [
       "(7507, 340767)"
      ]
     },
     "execution_count": 38,
     "metadata": {},
     "output_type": "execute_result"
    }
   ],
   "source": [
    "tfidf_text_vectors.shape"
   ]
  },
  {
   "cell_type": "code",
   "execution_count": 43,
   "id": "b9e989d0",
   "metadata": {},
   "outputs": [
    {
     "name": "stdout",
     "output_type": "stream",
     "text": [
      "Wall time: 12.7 s\n"
     ]
    }
   ],
   "source": [
    "%%time \n",
    "\n",
    "tfidf_text_vectors = tfidf_text_vectorizer_unigrams.fit_transform(df['text'])"
   ]
  },
  {
   "cell_type": "code",
   "execution_count": 44,
   "id": "ac591dc1",
   "metadata": {},
   "outputs": [
    {
     "data": {
      "text/plain": [
       "(7507, 24747)"
      ]
     },
     "execution_count": 44,
     "metadata": {},
     "output_type": "execute_result"
    }
   ],
   "source": [
    "tfidf_text_vectors.shape"
   ]
  },
  {
   "cell_type": "code",
   "execution_count": null,
   "id": "fd556180",
   "metadata": {},
   "outputs": [],
   "source": []
  },
  {
   "cell_type": "markdown",
   "id": "9c087713",
   "metadata": {},
   "source": [
    "#### Repeat for the paragraphs \n",
    "* slightly more challenging, must \"flatten\" each praragraph to it's own row + keep the right reference to its respective year \n",
    "* empty paragraphs are omitted "
   ]
  },
  {
   "cell_type": "code",
   "execution_count": 54,
   "id": "5821ceb9",
   "metadata": {},
   "outputs": [],
   "source": [
    "# if we want to keep the country variable too\n",
    "## perhaps test in subsequent iteration \n",
    "\"\"\" \n",
    "paragraph_df_by_country = pd.DataFrame([{ \"text\": paragraph, \"year\": year, \"country\": country} \n",
    "                               for paragraphs, year, country in zip(df[\"paragraphs\"], df[\"year\"], df[\"country\"]) \n",
    "                                    for paragraph in paragraphs if paragraph])\n",
    "                        \n",
    "\"\"\""
   ]
  },
  {
   "cell_type": "code",
   "execution_count": 7,
   "id": "eafa2789",
   "metadata": {},
   "outputs": [],
   "source": [
    "paragraph_df = pd.DataFrame([{ \"text\": paragraph, \"year\": year } \n",
    "                               for paragraphs, year in zip(df[\"paragraphs\"], df[\"year\"]) \n",
    "                                    for paragraph in paragraphs if paragraph])"
   ]
  },
  {
   "cell_type": "code",
   "execution_count": 50,
   "id": "f076e057",
   "metadata": {},
   "outputs": [
    {
     "data": {
      "text/plain": [
       "287346"
      ]
     },
     "execution_count": 50,
     "metadata": {},
     "output_type": "execute_result"
    }
   ],
   "source": [
    "df['number_of_paragraphs'].sum()"
   ]
  },
  {
   "cell_type": "code",
   "execution_count": 57,
   "id": "1b3134d4",
   "metadata": {},
   "outputs": [
    {
     "data": {
      "text/plain": [
       "(282210, 2)"
      ]
     },
     "execution_count": 57,
     "metadata": {},
     "output_type": "execute_result"
    }
   ],
   "source": [
    "# E.G. can see the length of this DF is roughly equivalent to number_of_paragraphs total (less a few for removing empty ones)\n",
    "paragraph_df.shape"
   ]
  },
  {
   "cell_type": "code",
   "execution_count": null,
   "id": "652e51f0",
   "metadata": {},
   "outputs": [],
   "source": []
  },
  {
   "cell_type": "code",
   "execution_count": 12,
   "id": "5113ebdf",
   "metadata": {},
   "outputs": [],
   "source": [
    "# apply tf-idf vectoriser to paragraphs; same min and max params\n",
    "tfidf_para_vectorizer = TfidfVectorizer(stop_words=stopwords, min_df=5, max_df=0.7)"
   ]
  },
  {
   "cell_type": "code",
   "execution_count": 13,
   "id": "9d4101f1",
   "metadata": {},
   "outputs": [
    {
     "name": "stdout",
     "output_type": "stream",
     "text": [
      "Wall time: 12.5 s\n"
     ]
    }
   ],
   "source": [
    "%%time \n",
    "\n",
    "tfidf_para_vectors = tfidf_para_vectorizer.fit_transform(paragraph_df[\"text\"])"
   ]
  },
  {
   "cell_type": "code",
   "execution_count": 60,
   "id": "827c22bf",
   "metadata": {},
   "outputs": [
    {
     "data": {
      "text/plain": [
       "(282210, 25324)"
      ]
     },
     "execution_count": 60,
     "metadata": {},
     "output_type": "execute_result"
    }
   ],
   "source": [
    "tfidf_para_vectors.shape"
   ]
  },
  {
   "cell_type": "markdown",
   "id": "cb1c24f7",
   "metadata": {},
   "source": [
    "* NOTE: the number of columns has changed as min_df and max_df have had their scaling effect in selecting features changed slightly as the number of documents is different for paragraphs vs. text "
   ]
  },
  {
   "cell_type": "code",
   "execution_count": null,
   "id": "7bee5c22",
   "metadata": {},
   "outputs": [],
   "source": []
  },
  {
   "cell_type": "code",
   "execution_count": null,
   "id": "af90b816",
   "metadata": {},
   "outputs": [],
   "source": []
  },
  {
   "cell_type": "markdown",
   "id": "71ea85ee",
   "metadata": {},
   "source": [
    "## \n",
    "\n",
    "## Nonnegative Matrix Factorisation (NMF)\n",
    "* the factorisation of the document-term matrix (DTM) \n",
    "    * DTM has only positive elements (can't have a negative count for a word obviously) \n",
    "* Conventional notation:\n",
    "    * original matrix = V\n",
    "    * Factors: W and H\n",
    "        * such that: V $\\approx$ W * H\n",
    "* Matrix W has the same number of rows as DTM and maps documents to topics\n",
    "* H has the same number of columns as features (shows how topics are part of features)\n",
    "* The number of topics (columns of W and the rows of H) can be chosen arbitarily to start with\n",
    "    * The smaller this number, the less exact the factorisation\n",
    "    * The larger the number, the more the factorisation is exact + computationally expensive\n",
    "        * In reality, an approximate factorisation is sufficient "
   ]
  },
  {
   "cell_type": "code",
   "execution_count": 62,
   "id": "29fdcc9d",
   "metadata": {},
   "outputs": [],
   "source": [
    "# start with an arbitrary 10 topics (can be tuned later)\n",
    "nmf_text_model = NMF(n_components=10, random_state=20) "
   ]
  },
  {
   "cell_type": "code",
   "execution_count": 63,
   "id": "0976bc9d",
   "metadata": {},
   "outputs": [
    {
     "name": "stderr",
     "output_type": "stream",
     "text": [
      "C:\\Users\\jason\\anaconda3\\lib\\site-packages\\sklearn\\decomposition\\_nmf.py:312: FutureWarning: The 'init' value, when 'init=None' and n_components is less than n_samples and n_features, will be changed from 'nndsvd' to 'nndsvda' in 1.1 (renaming of 0.26).\n",
      "  warnings.warn((\"The 'init' value, when 'init=None' and \"\n",
      "C:\\Users\\jason\\anaconda3\\lib\\site-packages\\sklearn\\decomposition\\_nmf.py:1090: ConvergenceWarning: Maximum number of iterations 200 reached. Increase it to improve convergence.\n",
      "  warnings.warn(\"Maximum number of iterations %d reached. Increase it to\"\n"
     ]
    }
   ],
   "source": [
    "# specify (W) matrix by applying nmf model to tfidf of text vectors \n",
    "W_text_matrix = nmf_text_model.fit_transform(tfidf_text_vectors)"
   ]
  },
  {
   "cell_type": "code",
   "execution_count": 64,
   "id": "5d036d60",
   "metadata": {},
   "outputs": [],
   "source": [
    "# specify (H) using the components_ function form the NMF class\n",
    "H_text_matrix = nmf_text_model.components_"
   ]
  },
  {
   "cell_type": "code",
   "execution_count": null,
   "id": "5a16c54c",
   "metadata": {},
   "outputs": [],
   "source": []
  },
  {
   "cell_type": "markdown",
   "id": "c5f673d6",
   "metadata": {},
   "source": [
    "### Specify a function for outputing a clean summary\n",
    "* Consider matrix (H) and find the largest values in each topic (row) \n",
    "    * Then, use these as the lookup index \n"
   ]
  },
  {
   "cell_type": "code",
   "execution_count": 39,
   "id": "c1255698",
   "metadata": {},
   "outputs": [],
   "source": [
    "def display_topics(model, features, top_words=5):\n",
    "    for topic, word_vector in enumerate(model.components_):\n",
    "\n",
    "        #calculate the sum of the vector so we can later get the % contribution of individual words \n",
    "        total = word_vector.sum()\n",
    "\n",
    "        # invert sort order (put index of largest value first)\n",
    "        largest = word_vector.argsort()[::-1] \n",
    "\n",
    "        # print header \n",
    "        print(\"\\nTopic %02d\" % topic)\n",
    "\n",
    "        # loop through top words (# specified number of {})\n",
    "        for i in range(0, top_words):\n",
    "            print(\"  %s (%2.2f)\" % (features[largest[i]],\n",
    "                  word_vector[largest[i]]*100.0/total)) # print contribution/total as %"
   ]
  },
  {
   "cell_type": "code",
   "execution_count": 84,
   "id": "299a8128",
   "metadata": {},
   "outputs": [
    {
     "name": "stdout",
     "output_type": "stream",
     "text": [
      "\n",
      "Topic 00\n",
      "  co (0.79)\n",
      "  operation (0.65)\n",
      "  disarmament (0.33)\n",
      "  nuclear (0.26)\n",
      "  relations (0.25)\n",
      "  negotiations (0.23)\n",
      "  problem (0.23)\n",
      "  south (0.21)\n",
      "\n",
      "Topic 01\n",
      "  terrorism (0.39)\n",
      "  sustainable (0.35)\n",
      "  challenges (0.34)\n",
      "  climate (0.33)\n",
      "  millennium (0.32)\n",
      "  goals (0.30)\n",
      "  2015 (0.30)\n",
      "  change (0.29)\n",
      "\n",
      "Topic 02\n",
      "  africa (1.14)\n",
      "  african (0.81)\n",
      "  south (0.62)\n",
      "  namibia (0.35)\n",
      "  delegation (0.30)\n",
      "  apartheid (0.28)\n",
      "  oau (0.27)\n",
      "  angola (0.27)\n",
      "\n",
      "Topic 03\n",
      "  arab (1.02)\n",
      "  israel (0.87)\n",
      "  palestinian (0.60)\n",
      "  israeli (0.54)\n",
      "  lebanon (0.54)\n",
      "  iraq (0.46)\n",
      "  resolutions (0.40)\n",
      "  occupation (0.32)\n",
      "\n",
      "Topic 04\n",
      "  american (0.29)\n",
      "  america (0.28)\n",
      "  latin (0.27)\n",
      "  democracy (0.19)\n",
      "  panama (0.18)\n",
      "  bolivia (0.18)\n",
      "  central (0.16)\n",
      "  guatemala (0.15)\n",
      "\n",
      "Topic 05\n",
      "  pacific (1.50)\n",
      "  islands (1.17)\n",
      "  solomon (0.82)\n",
      "  island (0.78)\n",
      "  zealand (0.69)\n",
      "  fiji (0.69)\n",
      "  nuclear (0.53)\n",
      "  small (0.52)\n",
      "\n",
      "Topic 06\n",
      "  soviet (0.81)\n",
      "  republic (0.77)\n",
      "  nuclear (0.69)\n",
      "  socialist (0.62)\n",
      "  viet (0.62)\n",
      "  nam (0.58)\n",
      "  korea (0.52)\n",
      "  struggle (0.45)\n",
      "\n",
      "Topic 07\n",
      "  guinea (4.18)\n",
      "  equatorial (1.72)\n",
      "  bissau (1.50)\n",
      "  papua (1.44)\n",
      "  republic (0.58)\n",
      "  portugal (0.54)\n",
      "  portuguese (0.43)\n",
      "  delegation (0.39)\n",
      "\n",
      "Topic 08\n",
      "  european (0.42)\n",
      "  cooperation (0.40)\n",
      "  europe (0.30)\n",
      "  bosnia (0.25)\n",
      "  nuclear (0.25)\n",
      "  regional (0.22)\n",
      "  herzegovina (0.22)\n",
      "  reform (0.22)\n",
      "\n",
      "Topic 09\n",
      "  caribbean (0.99)\n",
      "  small (0.66)\n",
      "  bahamas (0.65)\n",
      "  saint (0.63)\n",
      "  barbados (0.62)\n",
      "  haiti (0.56)\n",
      "  tobago (0.52)\n",
      "  trinidad (0.50)\n"
     ]
    }
   ],
   "source": [
    "# pass in nmf model to output function \n",
    "## + the tf-idf vectoriser (from text) to get word feature names (aka the word itself) \n",
    "display_topics(nmf_text_model, tfidf_text_vectorizer_unigrams.get_feature_names(),\n",
    "              top_words=8)"
   ]
  },
  {
   "cell_type": "markdown",
   "id": "1c7de3e1",
   "metadata": {},
   "source": [
    "### Brief Overview of Insights:\n",
    "* Topic (0) is interesting, possibly talking about nuclear disarment\n",
    "    * the existence of south, possibly meaning south korea might mean the topic is NK nuclear disarment \n",
    "* Other topics can be quite generalised, representing regions of the world\n",
    "    * E.G topic (3) is clearly focused on the middle-east, including the Israel & Palestinian situation \n",
    "    \n",
    "    \n",
    "    \n",
    "* Important to note that the individual contributions of words is quite small, generally across the board\n",
    "    * Primarily due to the large amount of words\n",
    "* Generally, a topic is well define if the % within a topic is rapidly decreasing\n",
    "    * We can try to tune this later "
   ]
  },
  {
   "cell_type": "code",
   "execution_count": null,
   "id": "344c52d6",
   "metadata": {},
   "outputs": [],
   "source": []
  },
  {
   "cell_type": "code",
   "execution_count": null,
   "id": "fb837daf",
   "metadata": {},
   "outputs": [],
   "source": []
  },
  {
   "cell_type": "markdown",
   "id": "ebf8b8e4",
   "metadata": {},
   "source": [
    "### we can do a generalised-test to see how many documents are assigned to each topic \n",
    "* a measure of how \"big\" the topics are across the board\n",
    "\n",
    "* can be calculated by: using the DTM & summing the individual topic contributions over all documents\n",
    "    * normalising them with the total sum & conver to percentage \n",
    "    \n",
    "    \n",
    "#### General Indications: \n",
    "* having an even distribution (not having a small amount of massive topics) is a good indicator of good number of topics\n",
    "    * Otherwise, consider adjusting topics up or down accordingly "
   ]
  },
  {
   "cell_type": "code",
   "execution_count": 91,
   "id": "b3da877f",
   "metadata": {},
   "outputs": [
    {
     "name": "stdout",
     "output_type": "stream",
     "text": [
      "Topic 0 = 10.68%\n",
      "Topic 1 = 15.16%\n",
      "Topic 2 = 13.35%\n",
      "Topic 3 = 9.90%\n",
      "Topic 4 = 13.34%\n",
      "Topic 5 = 5.84%\n",
      "Topic 6 = 7.75%\n",
      "Topic 7 = 4.18%\n",
      "Topic 8 = 13.31%\n",
      "Topic 9 = 6.50%\n"
     ]
    }
   ],
   "source": [
    "for i, val in enumerate(W_text_matrix.sum(axis=0) / W_text_matrix.sum() * 100.0 ):\n",
    "    print(\"Topic {} = {:.2f}%\".format(i, val))"
   ]
  },
  {
   "cell_type": "code",
   "execution_count": null,
   "id": "54166220",
   "metadata": {},
   "outputs": [],
   "source": []
  },
  {
   "cell_type": "code",
   "execution_count": null,
   "id": "8b82b1fd",
   "metadata": {},
   "outputs": [],
   "source": []
  },
  {
   "cell_type": "markdown",
   "id": "82f73174",
   "metadata": {},
   "source": [
    "## Re-create the topic models but using paragraphs instead of aggregate speeches\n",
    "* Given the UN speeches have lots of intertwined topics, it can be hard for a top-level modeling algo to find a common topic of an individual speech- particularly in long texts as they perhaps evenly cover a vast amount of topics\n",
    "    * We can account for this by breaking down the speeches into smaller entities (paragraphs) - which makes comparing paragraphs to paragraphs across speeches more cohesive \n",
    "    * It is also logical to assume that 1 paragraph = roughly 1 topic; as is the natural way to conduct a formal speech so we assume this method will be more robust \n",
    "        * We already created this paragraph DF above "
   ]
  },
  {
   "cell_type": "code",
   "execution_count": 16,
   "id": "4a3d7fc4",
   "metadata": {},
   "outputs": [],
   "source": [
    "# from: from sklearn.decomposition import NMF\n",
    "# repeat steps for text model \n",
    "nmf_para_model = NMF(n_components=10, random_state=42)"
   ]
  },
  {
   "cell_type": "code",
   "execution_count": 18,
   "id": "2a91e8d8",
   "metadata": {},
   "outputs": [
    {
     "name": "stderr",
     "output_type": "stream",
     "text": [
      "C:\\Users\\jason\\anaconda3\\lib\\site-packages\\sklearn\\decomposition\\_nmf.py:312: FutureWarning: The 'init' value, when 'init=None' and n_components is less than n_samples and n_features, will be changed from 'nndsvd' to 'nndsvda' in 1.1 (renaming of 0.26).\n",
      "  warnings.warn((\"The 'init' value, when 'init=None' and \"\n"
     ]
    }
   ],
   "source": [
    "# define matrixes from para model + the afore-defined para vectors variable \n",
    "W_para_matrix = nmf_para_model.fit_transform(tfidf_para_vectors)\n",
    "H_para_matrix = nmf_para_model.components_"
   ]
  },
  {
   "cell_type": "code",
   "execution_count": null,
   "id": "fac60b27",
   "metadata": {},
   "outputs": [],
   "source": []
  },
  {
   "cell_type": "code",
   "execution_count": 95,
   "id": "763ecb21",
   "metadata": {},
   "outputs": [
    {
     "name": "stdout",
     "output_type": "stream",
     "text": [
      "\n",
      "Topic 00\n",
      "  international (1.45)\n",
      "  world (1.33)\n",
      "  community (0.67)\n",
      "  new (0.64)\n",
      "  us (0.58)\n",
      "  peace (0.53)\n",
      "  order (0.44)\n",
      "  problems (0.43)\n",
      "\n",
      "Topic 01\n",
      "  general (2.70)\n",
      "  session (2.69)\n",
      "  assembly (2.65)\n",
      "  mr (1.90)\n",
      "  president (1.72)\n",
      "  election (1.52)\n",
      "  like (1.00)\n",
      "  delegation (0.91)\n",
      "\n",
      "Topic 02\n",
      "  countries (4.22)\n",
      "  developing (2.38)\n",
      "  economic (1.46)\n",
      "  developed (1.29)\n",
      "  trade (0.89)\n",
      "  debt (0.62)\n",
      "  least (0.46)\n",
      "  industrialized (0.46)\n",
      "\n",
      "Topic 03\n",
      "  nations (5.81)\n",
      "  united (5.70)\n",
      "  organization (1.27)\n",
      "  states (1.06)\n",
      "  charter (0.97)\n",
      "  member (0.90)\n",
      "  role (0.85)\n",
      "  secretary (0.55)\n",
      "\n",
      "Topic 04\n",
      "  nuclear (4.83)\n",
      "  weapons (3.20)\n",
      "  disarmament (1.96)\n",
      "  treaty (1.68)\n",
      "  proliferation (1.43)\n",
      "  non (1.20)\n",
      "  arms (1.19)\n",
      "  states (0.91)\n",
      "\n",
      "Topic 05\n",
      "  rights (6.46)\n",
      "  human (6.13)\n",
      "  respect (1.15)\n",
      "  fundamental (0.85)\n",
      "  universal (0.81)\n",
      "  protection (0.79)\n",
      "  democracy (0.66)\n",
      "  declaration (0.64)\n",
      "\n",
      "Topic 06\n",
      "  africa (3.63)\n",
      "  south (3.17)\n",
      "  african (1.62)\n",
      "  namibia (1.33)\n",
      "  apartheid (1.15)\n",
      "  regime (0.83)\n",
      "  people (0.83)\n",
      "  southern (0.79)\n",
      "\n",
      "Topic 07\n",
      "  security (5.87)\n",
      "  council (5.55)\n",
      "  permanent (1.41)\n",
      "  reform (1.37)\n",
      "  peace (1.37)\n",
      "  resolution (0.99)\n",
      "  members (0.87)\n",
      "  membership (0.73)\n",
      "\n",
      "Topic 08\n",
      "  people (1.32)\n",
      "  peace (1.27)\n",
      "  east (1.24)\n",
      "  middle (1.13)\n",
      "  palestinian (1.12)\n",
      "  israel (0.97)\n",
      "  arab (0.81)\n",
      "  region (0.69)\n",
      "\n",
      "Topic 09\n",
      "  development (4.40)\n",
      "  sustainable (1.17)\n",
      "  economic (1.11)\n",
      "  social (0.99)\n",
      "  goals (0.91)\n",
      "  agenda (0.73)\n",
      "  global (0.70)\n",
      "  millennium (0.70)\n"
     ]
    }
   ],
   "source": [
    "# display topics for paragraph model, set top words = 8 \n",
    "# change to para vectorizer \n",
    "display_topics(nmf_para_model, tfidf_para_vectorizer.get_feature_names(),\n",
    "              top_words=8)"
   ]
  },
  {
   "cell_type": "markdown",
   "id": "75fd2972",
   "metadata": {},
   "source": [
    "* We see some sharper dropping in topics E.G. topic 5 seems to resolutely be about human rights \n",
    "* Most regions have dropped out, except in those prevalent due to extra-ordinary events like israel/palestine/middle-east"
   ]
  },
  {
   "cell_type": "code",
   "execution_count": 96,
   "id": "020e1820",
   "metadata": {},
   "outputs": [
    {
     "name": "stdout",
     "output_type": "stream",
     "text": [
      "Topic 0 = 13.06%\n",
      "Topic 1 = 10.13%\n",
      "Topic 2 = 10.24%\n",
      "Topic 3 = 14.04%\n",
      "Topic 4 = 6.66%\n",
      "Topic 5 = 7.01%\n",
      "Topic 6 = 8.69%\n",
      "Topic 7 = 8.25%\n",
      "Topic 8 = 11.31%\n",
      "Topic 9 = 10.61%\n"
     ]
    }
   ],
   "source": [
    "# visualise what % of documents could be assigned mainly to each topic \n",
    "for i, val in enumerate(W_para_matrix.sum(axis=0) / W_para_matrix.sum() * 100.0 ):\n",
    "    print(\"Topic {} = {:.2f}%\".format(i, val))"
   ]
  },
  {
   "cell_type": "code",
   "execution_count": null,
   "id": "01467aa0",
   "metadata": {},
   "outputs": [],
   "source": []
  },
  {
   "cell_type": "code",
   "execution_count": null,
   "id": "208a1078",
   "metadata": {},
   "outputs": [],
   "source": []
  },
  {
   "cell_type": "code",
   "execution_count": null,
   "id": "f455d61a",
   "metadata": {},
   "outputs": [],
   "source": []
  },
  {
   "cell_type": "markdown",
   "id": "b24a8b41",
   "metadata": {},
   "source": [
    "## Key topic distributions over time\n",
    "* make use of sklearns topic model's `transform` method - which calculates the topic distribution of existing documents, keeping the already fitted topic model \n",
    "    * rather than re-train the model on each year, for example \n",
    "    \n",
    "* filter to see the most important topics over time (rather than all of them and clog up the visuals)"
   ]
  },
  {
   "cell_type": "code",
   "execution_count": 9,
   "id": "61d2faef",
   "metadata": {},
   "outputs": [
    {
     "data": {
      "text/html": [
       "<div>\n",
       "<style scoped>\n",
       "    .dataframe tbody tr th:only-of-type {\n",
       "        vertical-align: middle;\n",
       "    }\n",
       "\n",
       "    .dataframe tbody tr th {\n",
       "        vertical-align: top;\n",
       "    }\n",
       "\n",
       "    .dataframe thead th {\n",
       "        text-align: right;\n",
       "    }\n",
       "</style>\n",
       "<table border=\"1\" class=\"dataframe\">\n",
       "  <thead>\n",
       "    <tr style=\"text-align: right;\">\n",
       "      <th></th>\n",
       "      <th>text</th>\n",
       "      <th>year</th>\n",
       "    </tr>\n",
       "  </thead>\n",
       "  <tbody>\n",
       "    <tr>\n",
       "      <th>0</th>\n",
       "      <td>33: May I first convey to our President the co...</td>\n",
       "      <td>1970</td>\n",
       "    </tr>\n",
       "  </tbody>\n",
       "</table>\n",
       "</div>"
      ],
      "text/plain": [
       "                                                text  year\n",
       "0  33: May I first convey to our President the co...  1970"
      ]
     },
     "execution_count": 9,
     "metadata": {},
     "output_type": "execute_result"
    }
   ],
   "source": [
    "paragraph_df.head(1)"
   ]
  },
  {
   "cell_type": "code",
   "execution_count": 20,
   "id": "dcc39c68",
   "metadata": {},
   "outputs": [
    {
     "data": {
      "application/vnd.jupyter.widget-view+json": {
       "model_id": "739fb02e58a6438e81d374e9d8d19714",
       "version_major": 2,
       "version_minor": 0
      },
      "text/plain": [
       "  0%|          | 0/46 [00:00<?, ?it/s]"
      ]
     },
     "metadata": {},
     "output_type": "display_data"
    }
   ],
   "source": [
    "# initialise list to append to\n",
    "year_data = []\n",
    "\n",
    "# specify unique years value (recall it's an included column in the paragraph-df)\n",
    "for year in tqdm(np.unique(paragraph_df[\"year\"])):\n",
    "    \n",
    "    # use existing fited nmf model \n",
    "    W_year = nmf_para_model.transform(tfidf_para_vectors[np.array(paragraph_df[\"year\"] == year)])\n",
    "    \n",
    "    # get contribution of topic \n",
    "    year_data.append([year] + list(W_year.sum(axis=0)/W_year.sum()*100.0))\n",
    "    "
   ]
  },
  {
   "cell_type": "code",
   "execution_count": 21,
   "id": "e14252cb",
   "metadata": {},
   "outputs": [],
   "source": [
    "# filter the list of topics and highlight their most important words: \n",
    "\n",
    "## initialise list \n",
    "topic_names = []\n",
    "\n",
    "# get feature names (topics)\n",
    "voc = tfidf_para_vectorizer.get_feature_names()\n",
    "\n",
    "# loop through what is equivalent to the (H) matrix \n",
    "for topic in nmf_para_model.components_:\n",
    "    important = topic.argsort()\n",
    "    top_word = voc[important[-1]] + \" \" + voc[important[-2]]\n",
    "    topic_names.append(\"Topic \" + top_word)"
   ]
  },
  {
   "cell_type": "code",
   "execution_count": 22,
   "id": "8338e931",
   "metadata": {},
   "outputs": [],
   "source": [
    "## initialise DF with index as year \n",
    "df_year = pd.DataFrame(year_data, columns=[\"year\"] + topic_names).set_index(\"year\")"
   ]
  },
  {
   "cell_type": "code",
   "execution_count": 23,
   "id": "41512beb",
   "metadata": {},
   "outputs": [
    {
     "data": {
      "text/html": [
       "<div>\n",
       "<style scoped>\n",
       "    .dataframe tbody tr th:only-of-type {\n",
       "        vertical-align: middle;\n",
       "    }\n",
       "\n",
       "    .dataframe tbody tr th {\n",
       "        vertical-align: top;\n",
       "    }\n",
       "\n",
       "    .dataframe thead th {\n",
       "        text-align: right;\n",
       "    }\n",
       "</style>\n",
       "<table border=\"1\" class=\"dataframe\">\n",
       "  <thead>\n",
       "    <tr style=\"text-align: right;\">\n",
       "      <th></th>\n",
       "      <th>Topic international world</th>\n",
       "      <th>Topic general session</th>\n",
       "      <th>Topic countries developing</th>\n",
       "      <th>Topic nations united</th>\n",
       "      <th>Topic nuclear weapons</th>\n",
       "      <th>Topic rights human</th>\n",
       "      <th>Topic africa south</th>\n",
       "      <th>Topic security council</th>\n",
       "      <th>Topic people peace</th>\n",
       "      <th>Topic development sustainable</th>\n",
       "    </tr>\n",
       "    <tr>\n",
       "      <th>year</th>\n",
       "      <th></th>\n",
       "      <th></th>\n",
       "      <th></th>\n",
       "      <th></th>\n",
       "      <th></th>\n",
       "      <th></th>\n",
       "      <th></th>\n",
       "      <th></th>\n",
       "      <th></th>\n",
       "      <th></th>\n",
       "    </tr>\n",
       "  </thead>\n",
       "  <tbody>\n",
       "    <tr>\n",
       "      <th>1970</th>\n",
       "      <td>14.086841</td>\n",
       "      <td>9.649841</td>\n",
       "      <td>8.795623</td>\n",
       "      <td>19.898217</td>\n",
       "      <td>6.867280</td>\n",
       "      <td>6.173577</td>\n",
       "      <td>8.715151</td>\n",
       "      <td>6.623932</td>\n",
       "      <td>11.955804</td>\n",
       "      <td>7.233734</td>\n",
       "    </tr>\n",
       "    <tr>\n",
       "      <th>1971</th>\n",
       "      <td>13.589432</td>\n",
       "      <td>10.963462</td>\n",
       "      <td>10.381826</td>\n",
       "      <td>16.640036</td>\n",
       "      <td>6.216328</td>\n",
       "      <td>4.867889</td>\n",
       "      <td>10.776778</td>\n",
       "      <td>6.966861</td>\n",
       "      <td>13.020982</td>\n",
       "      <td>6.576407</td>\n",
       "    </tr>\n",
       "    <tr>\n",
       "      <th>1972</th>\n",
       "      <td>15.062996</td>\n",
       "      <td>11.678255</td>\n",
       "      <td>11.473567</td>\n",
       "      <td>15.038008</td>\n",
       "      <td>7.140651</td>\n",
       "      <td>5.426078</td>\n",
       "      <td>9.230937</td>\n",
       "      <td>6.219866</td>\n",
       "      <td>12.291309</td>\n",
       "      <td>6.438333</td>\n",
       "    </tr>\n",
       "    <tr>\n",
       "      <th>1973</th>\n",
       "      <td>15.224113</td>\n",
       "      <td>9.964191</td>\n",
       "      <td>11.938750</td>\n",
       "      <td>14.333491</td>\n",
       "      <td>6.589634</td>\n",
       "      <td>5.859560</td>\n",
       "      <td>10.208296</td>\n",
       "      <td>6.449393</td>\n",
       "      <td>13.197995</td>\n",
       "      <td>6.234578</td>\n",
       "    </tr>\n",
       "    <tr>\n",
       "      <th>1974</th>\n",
       "      <td>14.695502</td>\n",
       "      <td>12.219276</td>\n",
       "      <td>15.142427</td>\n",
       "      <td>11.906834</td>\n",
       "      <td>6.756947</td>\n",
       "      <td>4.777968</td>\n",
       "      <td>9.786046</td>\n",
       "      <td>4.814750</td>\n",
       "      <td>13.516960</td>\n",
       "      <td>6.383292</td>\n",
       "    </tr>\n",
       "  </tbody>\n",
       "</table>\n",
       "</div>"
      ],
      "text/plain": [
       "      Topic international world  Topic general session  \\\n",
       "year                                                     \n",
       "1970                  14.086841               9.649841   \n",
       "1971                  13.589432              10.963462   \n",
       "1972                  15.062996              11.678255   \n",
       "1973                  15.224113               9.964191   \n",
       "1974                  14.695502              12.219276   \n",
       "\n",
       "      Topic countries developing  Topic nations united  Topic nuclear weapons  \\\n",
       "year                                                                            \n",
       "1970                    8.795623             19.898217               6.867280   \n",
       "1971                   10.381826             16.640036               6.216328   \n",
       "1972                   11.473567             15.038008               7.140651   \n",
       "1973                   11.938750             14.333491               6.589634   \n",
       "1974                   15.142427             11.906834               6.756947   \n",
       "\n",
       "      Topic rights human  Topic africa south  Topic security council  \\\n",
       "year                                                                   \n",
       "1970            6.173577            8.715151                6.623932   \n",
       "1971            4.867889           10.776778                6.966861   \n",
       "1972            5.426078            9.230937                6.219866   \n",
       "1973            5.859560           10.208296                6.449393   \n",
       "1974            4.777968            9.786046                4.814750   \n",
       "\n",
       "      Topic people peace  Topic development sustainable  \n",
       "year                                                     \n",
       "1970           11.955804                       7.233734  \n",
       "1971           13.020982                       6.576407  \n",
       "1972           12.291309                       6.438333  \n",
       "1973           13.197995                       6.234578  \n",
       "1974           13.516960                       6.383292  "
      ]
     },
     "execution_count": 23,
     "metadata": {},
     "output_type": "execute_result"
    }
   ],
   "source": [
    "# E.G. \n",
    "df_year.head()"
   ]
  },
  {
   "cell_type": "code",
   "execution_count": null,
   "id": "2f09e206",
   "metadata": {},
   "outputs": [],
   "source": []
  },
  {
   "cell_type": "code",
   "execution_count": 26,
   "id": "0e75ee83",
   "metadata": {},
   "outputs": [
    {
     "data": {
      "image/png": "[encoded data removed]",
      "text/plain": [
       "<Figure size 1152x648 with 1 Axes>"
      ]
     },
     "metadata": {},
     "output_type": "display_data"
    }
   ],
   "source": [
    "df_year.plot.area(figsize=(16,9)); "
   ]
  },
  {
   "cell_type": "markdown",
   "id": "fdb88e86",
   "metadata": {},
   "source": [
    "* Probably the largest growth group has been \"sustainable development\" \n",
    "* The largest reduction in relative terms seems to be close between South Africa and peace \n",
    "\n",
    "* Likely need to do some more filtering, to get some more meaningful topics but a good overview "
   ]
  },
  {
   "cell_type": "code",
   "execution_count": null,
   "id": "ee4a3234",
   "metadata": {},
   "outputs": [],
   "source": []
  },
  {
   "cell_type": "code",
   "execution_count": null,
   "id": "09d56e6e",
   "metadata": {},
   "outputs": [],
   "source": []
  },
  {
   "cell_type": "markdown",
   "id": "51a11a89",
   "metadata": {},
   "source": [
    "# Nonnegative Matrix Factorisation (NMF)\n",
    "* Re-try with bi-grams"
   ]
  },
  {
   "cell_type": "code",
   "execution_count": 28,
   "id": "a9c780bc",
   "metadata": {},
   "outputs": [],
   "source": [
    "## start with just unigrams \n",
    "tfidf_para_vectorizer_bigrams = TfidfVectorizer(stop_words=stopwords, min_df=5, max_df=0.7, smooth_idf = True, \n",
    "                                       ngram_range=(1,2))"
   ]
  },
  {
   "cell_type": "code",
   "execution_count": 34,
   "id": "d8d6056a",
   "metadata": {},
   "outputs": [
    {
     "name": "stdout",
     "output_type": "stream",
     "text": [
      "Wall time: 30.8 s\n"
     ]
    }
   ],
   "source": [
    "%%time \n",
    "\n",
    "# tfidf_text_vectors = tfidf_text_vectorizer_bigrams.fit_transform(df['text'])\n",
    "\n",
    "tfidf_para_vectors_bigrams = tfidf_para_vectorizer_bigrams.fit_transform(paragraph_df[\"text\"])"
   ]
  },
  {
   "cell_type": "code",
   "execution_count": 35,
   "id": "4fbe0114",
   "metadata": {},
   "outputs": [
    {
     "data": {
      "text/plain": [
       "(282210, 337296)"
      ]
     },
     "execution_count": 35,
     "metadata": {},
     "output_type": "execute_result"
    }
   ],
   "source": [
    "# substantially bigger with bi-grams and uni-grams now \n",
    "tfidf_para_vectors_bigrams.shape"
   ]
  },
  {
   "cell_type": "code",
   "execution_count": null,
   "id": "d8eafcf7",
   "metadata": {},
   "outputs": [],
   "source": []
  },
  {
   "cell_type": "code",
   "execution_count": 36,
   "id": "1f2447c6",
   "metadata": {},
   "outputs": [],
   "source": [
    "# reinitialise base model\n",
    "nmf_para_model = NMF(n_components=10, random_state=42)"
   ]
  },
  {
   "cell_type": "code",
   "execution_count": 37,
   "id": "d817d7ac",
   "metadata": {},
   "outputs": [
    {
     "name": "stderr",
     "output_type": "stream",
     "text": [
      "C:\\Users\\jason\\anaconda3\\lib\\site-packages\\sklearn\\decomposition\\_nmf.py:312: FutureWarning: The 'init' value, when 'init=None' and n_components is less than n_samples and n_features, will be changed from 'nndsvd' to 'nndsvda' in 1.1 (renaming of 0.26).\n",
      "  warnings.warn((\"The 'init' value, when 'init=None' and \"\n"
     ]
    },
    {
     "name": "stdout",
     "output_type": "stream",
     "text": [
      "Wall time: 2min\n"
     ]
    }
   ],
   "source": [
    "%%time \n",
    "\n",
    "# define matrixes from para model + the afore-defined para vectors variable \n",
    "W_para_matrix = nmf_para_model.fit_transform(tfidf_para_vectors_bigrams)\n",
    "H_para_matrix = nmf_para_model.components_"
   ]
  },
  {
   "cell_type": "code",
   "execution_count": null,
   "id": "9f8f4833",
   "metadata": {},
   "outputs": [],
   "source": []
  },
  {
   "cell_type": "code",
   "execution_count": 41,
   "id": "ce23c4ad",
   "metadata": {},
   "outputs": [
    {
     "name": "stdout",
     "output_type": "stream",
     "text": [
      "\n",
      "Topic 00\n",
      "  nations (2.30)\n",
      "  united nations (2.27)\n",
      "  united (2.27)\n",
      "  organization (0.45)\n",
      "  charter (0.36)\n",
      "  role (0.31)\n",
      "  member (0.31)\n",
      "  states (0.30)\n",
      "\n",
      "Topic 01\n",
      "  general (1.22)\n",
      "  assembly (1.18)\n",
      "  session (1.16)\n",
      "  general assembly (1.05)\n",
      "  mr (0.81)\n",
      "  president (0.71)\n",
      "  election (0.62)\n",
      "  session general (0.57)\n",
      "\n",
      "Topic 02\n",
      "  international (0.51)\n",
      "  world (0.39)\n",
      "  peace (0.29)\n",
      "  community (0.27)\n",
      "  international community (0.23)\n",
      "  new (0.21)\n",
      "  us (0.20)\n",
      "  states (0.18)\n",
      "\n",
      "Topic 03\n",
      "  east (0.85)\n",
      "  middle (0.81)\n",
      "  middle east (0.81)\n",
      "  palestinian (0.75)\n",
      "  israel (0.64)\n",
      "  people (0.58)\n",
      "  peace (0.54)\n",
      "  arab (0.52)\n",
      "\n",
      "Topic 04\n",
      "  rights (2.76)\n",
      "  human (2.62)\n",
      "  human rights (2.50)\n",
      "  respect (0.42)\n",
      "  respect human (0.36)\n",
      "  universal (0.35)\n",
      "  fundamental (0.33)\n",
      "  protection (0.32)\n",
      "\n",
      "Topic 05\n",
      "  nuclear (2.20)\n",
      "  weapons (1.45)\n",
      "  nuclear weapons (0.90)\n",
      "  disarmament (0.77)\n",
      "  treaty (0.77)\n",
      "  proliferation (0.67)\n",
      "  non (0.54)\n",
      "  non proliferation (0.52)\n",
      "\n",
      "Topic 06\n",
      "  africa (1.59)\n",
      "  south (1.48)\n",
      "  south africa (1.16)\n",
      "  african (0.64)\n",
      "  namibia (0.60)\n",
      "  apartheid (0.56)\n",
      "  regime (0.40)\n",
      "  people (0.39)\n",
      "\n",
      "Topic 07\n",
      "  council (2.26)\n",
      "  security (2.18)\n",
      "  security council (1.87)\n",
      "  permanent (0.57)\n",
      "  peace security (0.55)\n",
      "  reform (0.49)\n",
      "  resolution (0.43)\n",
      "  peace (0.42)\n",
      "\n",
      "Topic 08\n",
      "  countries (1.78)\n",
      "  developing (1.12)\n",
      "  developing countries (1.02)\n",
      "  economic (0.72)\n",
      "  developed (0.60)\n",
      "  developed countries (0.45)\n",
      "  trade (0.41)\n",
      "  international economic (0.28)\n",
      "\n",
      "Topic 09\n",
      "  development (1.55)\n",
      "  sustainable (0.48)\n",
      "  sustainable development (0.41)\n",
      "  goals (0.37)\n",
      "  social (0.34)\n",
      "  economic (0.34)\n",
      "  global (0.30)\n",
      "  development goals (0.30)\n"
     ]
    }
   ],
   "source": [
    "display_topics(nmf_para_model, tfidf_para_vectorizer_bigrams.get_feature_names(),\n",
    "              top_words=8)"
   ]
  },
  {
   "cell_type": "markdown",
   "id": "5fc05f9e",
   "metadata": {},
   "source": [
    "* The bigrams concept looks good although we need to revisit our stop-words now to be a little more aggressive \n",
    "    * too many topics are clogged up with overlaps, E.G. topic 8 = countries, developing, developing countries, developed countries etc. \n",
    "* But it has shown up some additional info, E.G. topic 5 with nuclear disarment, we now see terms like \"non proliferation\" which gives a clearer idea how nuclear disarment is being approached "
   ]
  },
  {
   "cell_type": "code",
   "execution_count": null,
   "id": "7287a97a",
   "metadata": {},
   "outputs": [],
   "source": []
  },
  {
   "cell_type": "code",
   "execution_count": 43,
   "id": "e7ac5740",
   "metadata": {},
   "outputs": [
    {
     "name": "stdout",
     "output_type": "stream",
     "text": [
      "Topic 0 = 11.01%\n",
      "Topic 1 = 10.09%\n",
      "Topic 2 = 18.94%\n",
      "Topic 3 = 8.25%\n",
      "Topic 4 = 6.59%\n",
      "Topic 5 = 5.69%\n",
      "Topic 6 = 8.78%\n",
      "Topic 7 = 8.32%\n",
      "Topic 8 = 9.86%\n",
      "Topic 9 = 12.46%\n"
     ]
    }
   ],
   "source": [
    "## see individual contributions again: \n",
    "for i, val in enumerate(W_para_matrix.sum(axis=0) / W_para_matrix.sum() * 100.0 ):\n",
    "    print(\"Topic {} = {:.2f}%\".format(i, val))"
   ]
  },
  {
   "cell_type": "code",
   "execution_count": null,
   "id": "e2a3dd9a",
   "metadata": {},
   "outputs": [],
   "source": []
  },
  {
   "cell_type": "code",
   "execution_count": null,
   "id": "3d24cd09",
   "metadata": {},
   "outputs": [],
   "source": []
  },
  {
   "cell_type": "markdown",
   "id": "2766ec25",
   "metadata": {},
   "source": [
    "## FUTURE WORKS\n",
    "* further tune the bi-gram NMF model with lemmatisation/stopword removal\n",
    "* add tuned Latent Dirichlet Allocation \n",
    "* add singular value decomposition (SVD) comparison "
   ]
  }
 ],
 "metadata": {
  "kernelspec": {
   "display_name": "Python 3 (ipykernel)",
   "language": "python",
   "name": "python3"
  },
  "language_info": {
   "codemirror_mode": {
    "name": "ipython",
    "version": 3
   },
   "file_extension": ".py",
   "mimetype": "text/x-python",
   "name": "python",
   "nbconvert_exporter": "python",
   "pygments_lexer": "ipython3",
   "version": "3.9.7"
  }
 },
 "nbformat": 4,
 "nbformat_minor": 5
}
